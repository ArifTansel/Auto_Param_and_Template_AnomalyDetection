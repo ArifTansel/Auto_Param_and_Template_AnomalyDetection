{
  "cells": [
    {
      "cell_type": "code",
      "source": [
        "\n",
        "from google.colab import drive\n",
        "\n",
        "drive.mount('/content/drive')"
      ],
      "metadata": {
        "colab": {
          "base_uri": "https://localhost:8080/"
        },
        "id": "CBFpQadbGuWM",
        "outputId": "1cfd4a9c-8dfa-4802-99db-f4fcbd1a8203"
      },
      "execution_count": 1,
      "outputs": [
        {
          "output_type": "stream",
          "name": "stdout",
          "text": [
            "Mounted at /content/drive\n"
          ]
        }
      ]
    },
    {
      "cell_type": "code",
      "execution_count": 2,
      "metadata": {
        "colab": {
          "base_uri": "https://localhost:8080/"
        },
        "id": "p9HJxZF6vEwZ",
        "outputId": "439ffaef-2ece-4608-cf43-a15e68a77451"
      },
      "outputs": [
        {
          "output_type": "stream",
          "name": "stdout",
          "text": [
            "/content/drive/MyDrive/HDFS\n"
          ]
        }
      ],
      "source": [
        "%cd /content/drive/MyDrive/HDFS"
      ]
    },
    {
      "cell_type": "code",
      "source": [
        "from IPython.display import clear_output\n",
        "!pip install drain3\n",
        "clear_output()"
      ],
      "metadata": {
        "id": "xV_EDZbpvJwP"
      },
      "execution_count": 3,
      "outputs": []
    },
    {
      "cell_type": "code",
      "source": [
        "import numpy as np\n",
        "import pandas as pd\n",
        "from datetime import datetime , timedelta\n",
        "from sklearn.cluster import KMeans\n",
        "from drain3 import TemplateMiner\n",
        "from drain3.file_persistence import FilePersistence\n",
        "import numpy as np\n",
        "# Drain3 persistence\n",
        "persistence = FilePersistence(\"drain3_state.json\")\n",
        "template_miner = TemplateMiner(persistence)\n",
        "\n",
        "records = []\n",
        "\n",
        "with open(\"HDFS.log\", \"r\") as f:\n",
        "    for idx, line in enumerate(f, start=1):\n",
        "        line = line.strip()\n",
        "        if not line:\n",
        "            continue\n",
        "        result = template_miner.add_log_message(line)\n",
        "        records.append({\"line_id\": idx, \"log\": line, \"cluster_id\": result[\"cluster_id\"]})\n",
        "\n",
        "df = pd.DataFrame(records)"
      ],
      "metadata": {
        "id": "9KygepGgvK78"
      },
      "execution_count": 4,
      "outputs": []
    },
    {
      "cell_type": "code",
      "source": [
        "# Final template map\n",
        "cluster_map = {c.cluster_id: c.get_template() for c in template_miner.drain.clusters}\n",
        "for r in records:\n",
        "    r[\"template\"] = cluster_map.get(r[\"cluster_id\"], None)\n",
        "\n",
        "df = pd.DataFrame(records)\n",
        "df.drop(columns=[\"cluster_id\"], inplace=True)\n",
        "# Parametreleri çıkar"
      ],
      "metadata": {
        "id": "RvDOtZ1NxefD"
      },
      "execution_count": 5,
      "outputs": []
    },
    {
      "cell_type": "code",
      "source": [
        "df_unique_examples = df.groupby(\"template\").first().reset_index()\n",
        "for cluster in template_miner.drain.clusters:\n",
        "    print(cluster)"
      ],
      "metadata": {
        "id": "CfnQwmojxfHp",
        "colab": {
          "base_uri": "https://localhost:8080/"
        },
        "outputId": "37ae0079-a94f-4c75-96e3-20f47fc0b259"
      },
      "execution_count": 6,
      "outputs": [
        {
          "output_type": "stream",
          "name": "stdout",
          "text": [
            "ID=1     : size=3046841   : <*> <*> INFO dfs.DataNode$DataXceiver: Receiving block <*> src: <*> dest: <*>\n",
            "ID=2     : size=1016956   : <*> <*> INFO dfs.FSNamesystem: BLOCK* NameSystem.allocateBlock: <*> <*>\n",
            "ID=3     : size=3016253   : <*> <*> INFO dfs.DataNode$PacketResponder: PacketResponder <*> for block <*> <*>\n",
            "ID=4     : size=3015852   : <*> <*> INFO dfs.DataNode$PacketResponder: Received block <*> of size <*> from <*>\n",
            "ID=5     : size=3037985   : <*> <*> INFO dfs.FSNamesystem: BLOCK* NameSystem.addStoredBlock: blockMap updated: <*> is added to <*> size <*>\n",
            "ID=6     : size=12396     : <*> <*> INFO dfs.DataNode$DataXceiver: Received block <*> src: <*> dest: <*> of size <*>\n",
            "ID=7     : size=12105     : <*> <*> INFO dfs.DataNode$DataTransfer: <*> block <*> to <*>\n",
            "ID=8     : size=300       : <*> <*> INFO dfs.DataNode: <*> Starting thread to transfer block <*> to <*> <*>\n",
            "ID=9     : size=300       : <*> 19 INFO dfs.FSNamesystem: BLOCK* ask <*> to replicate <*> to datanode(s) <*> <*>\n",
            "ID=10    : size=856231    : <*> <*> INFO dfs.DataNode$DataXceiver: <*> Served block <*> to <*>\n",
            "ID=11    : size=11923     : <*> 19 INFO dfs.FSNamesystem: BLOCK* ask <*> to replicate <*> to datanode(s) <*>\n",
            "ID=12    : size=11923     : <*> <*> INFO dfs.DataNode: <*> Starting thread to transfer block <*> to <*>\n",
            "ID=13    : size=234174    : <*> 13 INFO dfs.DataBlockScanner: Verification succeeded for <*>\n",
            "ID=14    : size=126       : <*> <*> INFO dfs.DataNode$DataXceiver: writeBlock <*> received exception <*>\n",
            "ID=15    : size=56        : <*> <*> INFO dfs.DataNode$PacketResponder: PacketResponder <*> <*> Exception <*>\n",
            "ID=16    : size=5814      : <*> <*> INFO dfs.DataNode$DataXceiver: writeBlock <*> received exception java.io.IOException: Could not read from stream\n",
            "ID=17    : size=2475146   : <*> <*> INFO dfs.FSDataset: Deleting block <*> file <*>\n",
            "ID=18    : size=2418      : <*> <*> INFO dfs.DataNode$BlockReceiver: Receiving empty packet for block <*>\n",
            "ID=19    : size=143       : <*> <*> INFO dfs.DataNode$BlockReceiver: Exception in receiveBlock for block <*> java.io.IOException: Connection reset by peer\n",
            "ID=20    : size=163       : <*> <*> INFO <*> <*> <*> <*> <*> java.io.IOException: Connection reset by peer\n",
            "ID=21    : size=1744      : <*> <*> WARN dfs.FSNamesystem: BLOCK* NameSystem.addStoredBlock: Redundant addStoredBlock request received for <*> on <*> size <*>\n",
            "ID=22    : size=71        : <*> <*> INFO <*> <*> <*> <*> <*> java.net.SocketTimeoutException: <*> millis timeout while waiting for channel to be ready for <*> ch : java.nio.channels.SocketChannel[connected <*> <*>\n",
            "ID=23    : size=75        : <*> <*> INFO <*> <*> <*> <*> <*> java.io.InterruptedIOException: Interruped while waiting for IO on channel java.nio.channels.SocketChannel[connected <*> <*> <*> millis timeout left.\n",
            "ID=24    : size=104       : <*> <*> INFO dfs.DataNode$BlockReceiver: Exception in receiveBlock for block <*> <*>\n",
            "ID=25    : size=120       : <*> <*> INFO dfs.DataNode$BlockReceiver: Changing block file offset of block <*> from 0 to <*> meta file offset to <*>\n",
            "ID=26    : size=67        : <*> <*> INFO dfs.DataNode$BlockReceiver: <*> writing block <*> to mirror <*>\n",
            "ID=27    : size=30        : <*> <*> INFO dfs.DataNode$BlockReceiver: Exception in receiveBlock for block <*> java.io.InterruptedIOException: Interruped while waiting for IO on channel java.nio.channels.SocketChannel[connected <*> <*> <*> millis timeout left.\n",
            "ID=28    : size=12        : <*> <*> INFO dfs.DataNode$PacketResponder: PacketResponder <*> <*> Exception java.io.IOException: Broken pipe\n",
            "ID=29    : size=18        : <*> <*> INFO dfs.DataNode$DataXceiver: writeBlock <*> received exception java.io.IOException: Block <*> is valid, and cannot be written to.\n",
            "ID=30    : size=17        : <*> <*> WARN dfs.DataNode$DataTransfer: <*> to transfer <*> to <*> got java.io.IOException: Connection reset by peer\n",
            "ID=31    : size=2465801   : <*> <*> INFO dfs.FSNamesystem: BLOCK* NameSystem.delete: <*> is added to invalidSet of <*>\n",
            "ID=32    : size=9070      : <*> <*> WARN dfs.FSDataset: Unexpected error trying to delete block <*> BlockInfo not found in volumeMap.\n",
            "ID=33    : size=2562      : <*> <*> INFO dfs.FSNamesystem: BLOCK* NameSystem.addStoredBlock: addStoredBlock request received for <*> on <*> size <*> But it does not belong to any file.\n",
            "ID=34    : size=712414    : <*> <*> WARN dfs.DataNode$DataXceiver: <*> exception while serving <*> to <*>\n",
            "ID=35    : size=10        : <*> <*> INFO dfs.DataNode$BlockReceiver: Exception in receiveBlock for block <*> java.net.SocketTimeoutException: <*> millis timeout while waiting for channel to be ready for write. ch : java.nio.channels.SocketChannel[connected <*> <*>\n",
            "ID=36    : size=10        : <*> <*> INFO dfs.FSDataset: Reopen Block <*>\n",
            "ID=37    : size=8         : <*> 19 INFO dfs.FSNamesystem: BLOCK* Removing block <*> from neededReplications as it does not belong to any file.\n",
            "ID=38    : size=67        : <*> 16 WARN dfs.PendingReplicationBlocks$PendingReplicationMonitor: PendingReplicationMonitor timed out block <*>\n",
            "ID=39    : size=30        : <*> <*> INFO dfs.DataNode$DataXceiver: writeBlock <*> received exception java.io.IOException: <*> <*>\n",
            "ID=40    : size=8         : <*> <*> INFO dfs.DataNode$PacketResponder: PacketResponder <*> 1 Exception java.io.InterruptedIOException: Interruped while waiting for IO on channel java.nio.channels.SocketChannel[closed]. <*> millis timeout left.\n",
            "ID=41    : size=2         : <*> 18865 INFO dfs.DataNode$DataXceiver: writeBlock blk_1684134505299265593 received exception java.net.NoRouteToHostException: No route to host\n",
            "ID=42    : size=16        : <*> <*> WARN dfs.DataBlockScanner: Adding an already existing block <*>\n",
            "ID=43    : size=6         : <*> <*> INFO dfs.DataNode$BlockReceiver: Exception in receiveBlock for block <*> java.io.IOException: Broken pipe\n",
            "ID=44    : size=4         : <*> <*> INFO dfs.DataNode$PacketResponder: PacketResponder <*> 1 Exception java.io.IOException: The stream is closed\n"
          ]
        }
      ]
    },
    {
      "cell_type": "markdown",
      "source": [
        "# Extract Params With LLM"
      ],
      "metadata": {
        "id": "wasKaqu8CivA"
      }
    },
    {
      "cell_type": "markdown",
      "source": [
        "Çalıştırabilmek için GEMINI_API_KEY bulundurmak gerekir"
      ],
      "metadata": {
        "id": "EluiGT4VDKUC"
      }
    },
    {
      "cell_type": "code",
      "source": [
        "from tqdm import tqdm\n",
        "prompt = \"\"\"\n",
        "Prompt:\n",
        "You are an AI agent that extracts parameters from log templates.\n",
        "I will provide you with:\n",
        "A raw log line.\n",
        "Its corresponding log template.\n",
        "The log template contains <*> placeholders (masks). Your task is to return an array of parameter types in the same order that the <*> appear.\n",
        "Allowed parameter types (keys):\n",
        "USER\n",
        "DATETIME\n",
        "IP\n",
        "DURATION\n",
        "BLKNO\n",
        "Example:\n",
        "Log: 081111 092742 25457 INFO dfs.DataNode$PacketResponder: PacketResponder 1 for block blk_-5952182400333241163 terminating\n",
        "Template: <*> <*> <*> dfs.DataNode$PacketResponder: PacketResponder 1 for block blk_<*> terminating\n",
        "Output: {{DATETIME,*,*,BLKNO}}\n",
        "Instructions:\n",
        "\n",
        "Only use the keys listed above. If paramater does not match any key write * in its place\n",
        "\n",
        "Before Giving output always make a analyse for each \"<*>\" word in the template and its correspondig word in the log.\n",
        "\n",
        "Only Analyse \"<*>\" word dont analyze other words e.g. [ID],[USER]\n",
        "\n",
        "Must always key count have to be equal to Template's * count\n",
        "\n",
        "Always return the output in the format: {{KEY, KEY, ...}}\n",
        "\n",
        "Now process the following:\n",
        "Log: {log}\n",
        "Template: {template}\n",
        "\n",
        "Output:\n",
        "\"\"\"\n",
        "from google import genai\n",
        "import os\n",
        "from dotenv import load_dotenv\n",
        "\n",
        "# Path to your .env file\n",
        "load_dotenv('/content/drive/MyDrive/Mylog/.env')\n",
        "client = genai.Client()\n",
        "\n"
      ],
      "metadata": {
        "id": "aLItmP5QDea0"
      },
      "execution_count": 7,
      "outputs": []
    },
    {
      "cell_type": "code",
      "source": [
        "results = {}\n",
        "\n",
        "for idx, row in (df_unique_examples.iterrows()) :\n",
        "  template = row[\"template\"]\n",
        "  log = row[\"log\"]\n",
        "  i = 0\n",
        "  while i < 5 :\n",
        "    try :\n",
        "      response = client.models.generate_content(\n",
        "        model=\"gemini-2.5-flash\",\n",
        "        contents=prompt.format(log = log , template=template),\n",
        "      )\n",
        "      break\n",
        "    except :\n",
        "      print(f\"failed trying again : {i}. attempt\" )\n",
        "      results.update({template : \"failed\"})\n",
        "      i+=1\n",
        "  print(response.text)\n",
        "  print(\"---------------------------------------------------------------------------------------------------------------------------------------------\")\n",
        "  print(\"--------------------{}---------------\".format(template))\n",
        "  results.update({template : response.text.split(\"{\")[1].split(\"}\")[0]})"
      ],
      "metadata": {
        "id": "mv-bmbFsDllG"
      },
      "execution_count": null,
      "outputs": []
    },
    {
      "cell_type": "code",
      "source": [
        "results_df = pd.DataFrame(results.items(), columns=[\"template\", \"result\"])\n",
        "results_df"
      ],
      "metadata": {
        "colab": {
          "base_uri": "https://localhost:8080/",
          "height": 158
        },
        "id": "vt2ow7XeIWmj",
        "outputId": "e95e5d3d-b2c0-4b41-8b96-ca31eff56c23"
      },
      "execution_count": null,
      "outputs": [
        {
          "output_type": "error",
          "ename": "NameError",
          "evalue": "name 'results' is not defined",
          "traceback": [
            "\u001b[0;31m---------------------------------------------------------------------------\u001b[0m",
            "\u001b[0;31mNameError\u001b[0m                                 Traceback (most recent call last)",
            "\u001b[0;32m/tmp/ipython-input-724643910.py\u001b[0m in \u001b[0;36m<cell line: 0>\u001b[0;34m()\u001b[0m\n\u001b[0;32m----> 1\u001b[0;31m \u001b[0mresults_df\u001b[0m \u001b[0;34m=\u001b[0m \u001b[0mpd\u001b[0m\u001b[0;34m.\u001b[0m\u001b[0mDataFrame\u001b[0m\u001b[0;34m(\u001b[0m\u001b[0mresults\u001b[0m\u001b[0;34m.\u001b[0m\u001b[0mitems\u001b[0m\u001b[0;34m(\u001b[0m\u001b[0;34m)\u001b[0m\u001b[0;34m,\u001b[0m \u001b[0mcolumns\u001b[0m\u001b[0;34m=\u001b[0m\u001b[0;34m[\u001b[0m\u001b[0;34m\"template\"\u001b[0m\u001b[0;34m,\u001b[0m \u001b[0;34m\"result\"\u001b[0m\u001b[0;34m]\u001b[0m\u001b[0;34m)\u001b[0m\u001b[0;34m\u001b[0m\u001b[0;34m\u001b[0m\u001b[0m\n\u001b[0m\u001b[1;32m      2\u001b[0m \u001b[0mresults_df\u001b[0m\u001b[0;34m\u001b[0m\u001b[0;34m\u001b[0m\u001b[0m\n",
            "\u001b[0;31mNameError\u001b[0m: name 'results' is not defined"
          ]
        }
      ]
    },
    {
      "cell_type": "code",
      "source": [
        "from tqdm import tqdm\n",
        "for idx, row in tqdm(df.iterrows()):\n",
        "    template = row[\"template\"]\n",
        "    log_line = row[\"log\"]\n",
        "    params = template_miner.extract_parameters(template, log_line, exact_matching=True)  # ->\n",
        "    param_list = results_df[results_df['template']== template]['result'].values[0].split(\",\") # -> ['DAY', 'TIME', '*', '*', 'USER', '*', 'IP', 'IP', 'IP', 'DURATION', '*', '*']\n",
        "\n",
        "    param_list = [param.strip() for param in param_list]\n",
        "\n",
        "    for p_idx , param_type in enumerate(param_list) :\n",
        "      if param_type != \"*\" :\n",
        "        df.at[idx, param_type] = params[p_idx].value\n"
      ],
      "metadata": {
        "id": "cC2kf_vaNpn_",
        "colab": {
          "base_uri": "https://localhost:8080/",
          "height": 193
        },
        "outputId": "2d375bf2-3cab-4761-a9a6-e03c7a65f38e"
      },
      "execution_count": null,
      "outputs": [
        {
          "output_type": "stream",
          "name": "stderr",
          "text": [
            "248163it [02:19, 1780.02it/s]\n"
          ]
        },
        {
          "output_type": "error",
          "ename": "IndexError",
          "evalue": "list index out of range",
          "traceback": [
            "\u001b[0;31m---------------------------------------------------------------------------\u001b[0m",
            "\u001b[0;31mIndexError\u001b[0m                                Traceback (most recent call last)",
            "\u001b[0;32m/tmp/ipython-input-384808548.py\u001b[0m in \u001b[0;36m<cell line: 0>\u001b[0;34m()\u001b[0m\n\u001b[1;32m     10\u001b[0m     \u001b[0;32mfor\u001b[0m \u001b[0mp_idx\u001b[0m \u001b[0;34m,\u001b[0m \u001b[0mparam_type\u001b[0m \u001b[0;32min\u001b[0m \u001b[0menumerate\u001b[0m\u001b[0;34m(\u001b[0m\u001b[0mparam_list\u001b[0m\u001b[0;34m)\u001b[0m \u001b[0;34m:\u001b[0m\u001b[0;34m\u001b[0m\u001b[0;34m\u001b[0m\u001b[0m\n\u001b[1;32m     11\u001b[0m       \u001b[0;32mif\u001b[0m \u001b[0mparam_type\u001b[0m \u001b[0;34m!=\u001b[0m \u001b[0;34m\"*\"\u001b[0m \u001b[0;34m:\u001b[0m\u001b[0;34m\u001b[0m\u001b[0;34m\u001b[0m\u001b[0m\n\u001b[0;32m---> 12\u001b[0;31m         \u001b[0mdf\u001b[0m\u001b[0;34m.\u001b[0m\u001b[0mat\u001b[0m\u001b[0;34m[\u001b[0m\u001b[0midx\u001b[0m\u001b[0;34m,\u001b[0m \u001b[0mparam_type\u001b[0m\u001b[0;34m]\u001b[0m \u001b[0;34m=\u001b[0m \u001b[0mparams\u001b[0m\u001b[0;34m[\u001b[0m\u001b[0mp_idx\u001b[0m\u001b[0;34m]\u001b[0m\u001b[0;34m.\u001b[0m\u001b[0mvalue\u001b[0m\u001b[0;34m\u001b[0m\u001b[0;34m\u001b[0m\u001b[0m\n\u001b[0m",
            "\u001b[0;31mIndexError\u001b[0m: list index out of range"
          ]
        }
      ]
    },
    {
      "cell_type": "code",
      "source": [
        "from sklearn.preprocessing import LabelEncoder\n",
        "import torch.nn as nn\n",
        "\n",
        "# Map usernames to integer IDs\n",
        "user_encoder = LabelEncoder()\n",
        "df[\"user_id\"] = user_encoder.fit_transform(df[\"USER\"].fillna(\"UNK\"))"
      ],
      "metadata": {
        "id": "aMXSvF9tZoGm"
      },
      "execution_count": null,
      "outputs": []
    },
    {
      "cell_type": "markdown",
      "metadata": {
        "id": "7Ahk07Ln51Fz"
      },
      "source": [
        "# Template Embedding (template2vec)"
      ]
    },
    {
      "cell_type": "code",
      "execution_count": null,
      "metadata": {
        "id": "Uq1jBUnc6Gyf",
        "colab": {
          "base_uri": "https://localhost:8080/",
          "height": 301,
          "referenced_widgets": [
            "ece4dee264c348acad8127b9fe83a83b",
            "14b7059d34944a30bf3d43a96969087b",
            "1a54a5deaf174248ae2d1712d483294d",
            "69f7878cd4584199a2b4b3875e048ace",
            "e705c777e92448e8be95802495dd9c03",
            "df8f7939aebf4029b8facdbed01c7da1",
            "d5d796cb5e7646979787d24427fc6b6e",
            "ee55abba32b0434c8e5dfe3013214ddb",
            "b65e90ef29ff4a76a14699d9a58e384e",
            "6388d4e33e8d4202965cdd70003964e8",
            "51d4ae6a088d46ff984d935a642ec795",
            "842b5f9725bd4beaaf6a18ee53bf3197",
            "ac745d5b7a294bbba310b51f1dc2db10",
            "ef64bf1ccba240efa8105779647e6d51",
            "55ef80718ddd4c93b4de4d53c3baec88",
            "54e24d51657b4a819aea0c5135913d25",
            "664e055fcc8f4bd2978769a0be9d2966",
            "5c5e7556a9a04253a6f446d0bf9064b5",
            "48cdb4b64f6e4dc295ad05a874e4ca48",
            "f919f147c316453ebed0ccc6d3cde711",
            "991de700156a4fc8a81ae8c8a140d7c5",
            "fb4ad725ff194a23b50e7c90b6f36a93",
            "46ab3d6103c84c1a9f01bbcf420965c0",
            "3c9384fcff4343428c4a0526ad008801",
            "0b6769ae1e844729b931d2af7483d6bc",
            "dd01e9dcb1b84ea6bae8b090735ca2a6",
            "ac1cefe0c7914d68b47c38271eaeb8be",
            "72a51b0641684d7e9f054fefa7dbdeb6",
            "765e0188c0b6483499391826d4969a50",
            "c4fbcb3634794359ac9a3a55ce38bafa",
            "57e7171ba55a4a72a3b813879ac8618c",
            "cca4cdd59afa4594a1225ba484572d82",
            "f8bc7a8c5e034245b0111b03d9e29d54",
            "0826049e858843e2b5860481fff4b720",
            "03a27188be174382a013d42b7fe41e58",
            "e10e4a9b4d6a4a1cb81f863a6f6ca365",
            "8bb179a1d65e4cf5895505add9d34625",
            "b497f7c361414660a53a6b41ab6fe059",
            "31756b12f0f94188806a2654f70001db",
            "13e17ff3c0ac447db36eca74ac5dea00",
            "a027c53bbec34761a6a98514eefe5006",
            "7c5b39d0368543b29d0b787ab302e009",
            "cc6ae1e8429e431e84c607a102fc49c2",
            "d9b488d012b1481baa5bb6252c9f6db5",
            "50b5e422385241739d1b8c9ab13861cf",
            "1a39647fad1e4e27b40cdedbe9e0c575",
            "a261bd3a102c4ccbb8317f4611e62eb5",
            "c7046710fa2b4191a5ade5de5e0d025b",
            "270abb27cfb04e50a4b01b86f296cf31",
            "e6c5864c26c741c181388316dbad3587",
            "e527bfbb10844a6292fc55f2407e67cc",
            "a2a36262b72f43c2b6fa2ae71a8012c5",
            "3d27a381a50441108869a3cf7cc13d19",
            "fdd866845f0e435b9144f665fc8ef239",
            "25ed1a9ce6484730829c906a84758390"
          ]
        },
        "outputId": "13078816-8e4b-4e88-8af5-523f5545ae89"
      },
      "outputs": [
        {
          "output_type": "stream",
          "name": "stderr",
          "text": [
            "/usr/local/lib/python3.12/dist-packages/huggingface_hub/utils/_auth.py:94: UserWarning: \n",
            "The secret `HF_TOKEN` does not exist in your Colab secrets.\n",
            "To authenticate with the Hugging Face Hub, create a token in your settings tab (https://huggingface.co/settings/tokens), set it as secret in your Google Colab and restart your session.\n",
            "You will be able to reuse this secret in all of your notebooks.\n",
            "Please note that authentication is recommended but still optional to access public models or datasets.\n",
            "  warnings.warn(\n"
          ]
        },
        {
          "output_type": "display_data",
          "data": {
            "text/plain": [
              "tokenizer_config.json:   0%|          | 0.00/48.0 [00:00<?, ?B/s]"
            ],
            "application/vnd.jupyter.widget-view+json": {
              "version_major": 2,
              "version_minor": 0,
              "model_id": "ece4dee264c348acad8127b9fe83a83b"
            }
          },
          "metadata": {}
        },
        {
          "output_type": "display_data",
          "data": {
            "text/plain": [
              "vocab.txt:   0%|          | 0.00/232k [00:00<?, ?B/s]"
            ],
            "application/vnd.jupyter.widget-view+json": {
              "version_major": 2,
              "version_minor": 0,
              "model_id": "842b5f9725bd4beaaf6a18ee53bf3197"
            }
          },
          "metadata": {}
        },
        {
          "output_type": "display_data",
          "data": {
            "text/plain": [
              "tokenizer.json:   0%|          | 0.00/466k [00:00<?, ?B/s]"
            ],
            "application/vnd.jupyter.widget-view+json": {
              "version_major": 2,
              "version_minor": 0,
              "model_id": "46ab3d6103c84c1a9f01bbcf420965c0"
            }
          },
          "metadata": {}
        },
        {
          "output_type": "display_data",
          "data": {
            "text/plain": [
              "config.json:   0%|          | 0.00/570 [00:00<?, ?B/s]"
            ],
            "application/vnd.jupyter.widget-view+json": {
              "version_major": 2,
              "version_minor": 0,
              "model_id": "0826049e858843e2b5860481fff4b720"
            }
          },
          "metadata": {}
        },
        {
          "output_type": "display_data",
          "data": {
            "text/plain": [
              "model.safetensors:   0%|          | 0.00/440M [00:00<?, ?B/s]"
            ],
            "application/vnd.jupyter.widget-view+json": {
              "version_major": 2,
              "version_minor": 0,
              "model_id": "50b5e422385241739d1b8c9ab13861cf"
            }
          },
          "metadata": {}
        }
      ],
      "source": [
        "import torch\n",
        "import numpy as np\n",
        "from transformers import BertTokenizer, BertModel\n",
        "from sklearn.metrics.pairwise import cosine_similarity\n",
        "\n",
        "\n",
        "# ========== Step 2: Generate BERT embeddings ==========\n",
        "class BertEmbedder:\n",
        "    def __init__(self, model_name=\"bert-base-uncased\"):\n",
        "        self.tokenizer = BertTokenizer.from_pretrained(model_name)\n",
        "        self.model = BertModel.from_pretrained(model_name)\n",
        "        self.model.eval()\n",
        "\n",
        "    def get_template_vector(self, template_text):\n",
        "        tokens = self.tokenizer(template_text, return_tensors=\"pt\", padding=True, truncation=True, max_length=64)\n",
        "        with torch.no_grad():\n",
        "            outputs = self.model(**tokens)\n",
        "        cls_embedding = outputs.last_hidden_state[:, 0, :].squeeze().numpy()\n",
        "        return cls_embedding\n",
        "\n",
        "# ========== Example Usage ==========\n",
        "templates = df[\"template\"].unique()\n",
        "\n",
        "# Step 1: Build word table\n",
        "embedder = BertEmbedder()\n",
        "template_vectors = {}\n",
        "for t in templates:\n",
        "    template_vectors[t] = embedder.get_template_vector(t)\n",
        "\n"
      ]
    },
    {
      "cell_type": "markdown",
      "metadata": {
        "id": "ZuaVWqzZkpUp"
      },
      "source": [
        "# Date Encoder param2vec"
      ]
    },
    {
      "cell_type": "markdown",
      "source": [
        "## Day and Time to Date"
      ],
      "metadata": {
        "id": "oRSqBb64RfiN"
      }
    },
    {
      "cell_type": "code",
      "source": [
        "import numpy as np\n",
        "for idx,row in df.iterrows() :\n",
        "  date = row[\"DATE\"]\n",
        "  df.at[idx,\"date\"] = datetime.strptime(date, \"%y%m%d %H%M%S\")\n",
        "df.drop(columns=[\"DAY\",\"TIME\"] , inplace= True)"
      ],
      "metadata": {
        "id": "zPNopGNlRk3F"
      },
      "execution_count": null,
      "outputs": []
    },
    {
      "cell_type": "markdown",
      "source": [
        "## TIME encode"
      ],
      "metadata": {
        "id": "A_5Ni0zbRn17"
      }
    },
    {
      "cell_type": "code",
      "execution_count": null,
      "metadata": {
        "id": "qtCx6mQvcCjD"
      },
      "outputs": [],
      "source": [
        "import numpy as np\n",
        "from datetime import datetime\n",
        "\n",
        "def time_encoding(value, max_value):\n",
        "    \"\"\"Cyclic encoding for a single time unit.\"\"\"\n",
        "    angle = 2 * np.pi * value / max_value\n",
        "    return np.array([np.sin(angle), np.cos(angle)])\n",
        "\n",
        "def encode_time(time : str) :\n",
        "    \"\"\"\n",
        "    Encode a time string into a cyclic time vector.\n",
        "    Units: hour, minute, second\n",
        "    time : %H:%M:%S\n",
        "    \"\"\"\n",
        "    if \":\" in time :\n",
        "      hour , minute , second = map(int , time.split(\":\"))\n",
        "    else :\n",
        "      second = int(time)\n",
        "      hour = 0\n",
        "      minute = 0\n",
        "    encoded = []\n",
        "    encoded.append(time_encoding(hour , 24))\n",
        "    encoded.append(time_encoding(minute , 60))\n",
        "    encoded.append(time_encoding(second , 60))\n",
        "    return np.concatenate(encoded)\n",
        "\n",
        "def encode_datetime(dt: datetime):\n",
        "    \"\"\"\n",
        "    Encode a datetime object into a cyclic time vector.\n",
        "    Units: month, day, hour, minute, second, microsecond (millisecond-level).\n",
        "    \"\"\"\n",
        "    if pd.isna(dt):\n",
        "        return np.full(12, np.nan) # Return NaN array for missing values\n",
        "    encoded = []\n",
        "    # Month (1–12)\n",
        "    encoded.append(time_encoding(dt.month, 12))\n",
        "    # Day of month (1–31, rough upper bound)\n",
        "    encoded.append(time_encoding(dt.day, 31))\n",
        "    # Hour (0–23)\n",
        "    encoded.append(time_encoding(dt.hour, 24))\n",
        "    # Minute (0–59)\n",
        "    encoded.append(time_encoding(dt.minute, 60))\n",
        "    # Second (0–59)\n",
        "    encoded.append(time_encoding(dt.second, 60))\n",
        "    # Millisecond (0–999 from microsecond field)\n",
        "    ms = dt.microsecond // 1000\n",
        "    encoded.append(time_encoding(ms, 1000))\n",
        "\n",
        "    # Concatenate into one feature vector\n",
        "    return np.concatenate(encoded)\n",
        "\n",
        "\n",
        "template_embeds = []\n",
        "date_embeds = []\n",
        "connection_time_embeds = []\n",
        "for idx, row in df.iterrows():\n",
        "    template = row[\"template\"]\n",
        "    template_embeds.append(template_vectors[template])\n",
        "\n",
        "    date_embeds.append(encode_datetime(row[\"date\"]))\n",
        "    if pd.isna(row[\"DURATION\"]) == False:\n",
        "      con_time = row[\"DURATION\"]\n",
        "      if type(con_time) is str   :\n",
        "        if \":\" in con_time :\n",
        "          conntection_time_sec = (int(con_time.split(\":\")[0]) * 3600) + (int(con_time.split(\":\")[1]) * 60) + (int(con_time.split(\":\")[2]))\n",
        "          df.at[idx,\"DURATION\"] = conntection_time_sec\n",
        "      else :\n",
        "        df.at[idx,\"DURATION\"] = int(con_time)\n",
        "\n",
        "df[\"template_embed\"] = template_embeds\n",
        "df[\"date_embed\"] = date_embeds"
      ]
    },
    {
      "cell_type": "markdown",
      "source": [
        "## Connection_Time Embedding"
      ],
      "metadata": {
        "id": "75BlNTZ8z7nn"
      }
    },
    {
      "cell_type": "code",
      "source": [
        "from sklearn.preprocessing import StandardScaler\n",
        "duration = df[\"DURATION\"].fillna(0).astype(float).values.reshape(-1, 1)\n",
        "\n",
        "# 2. StandardScaler nesnesini oluşturun.\n",
        "duration_scaler = StandardScaler()\n",
        "\n",
        "# 3. Scaler'ı SADECE EĞİTİM VERİSİ üzerinden eğitin (fit).\n",
        "#    Bu adım, eğitim verisinin ortalamasını ve standart sapmasını öğrenir.\n",
        "duration_scaler.fit(duration)\n",
        "\n",
        "# 4. Hem eğitim hem de test verisini öğrendiğiniz bu değerlerle dönüştürün (transform).\n",
        "df[\"duration_scaled\"] = duration_scaler.transform(duration)\n",
        "\n",
        "# Yeni sütunumuzun adı 'duration_scaled' ve bu sütun tek bir sayı içeriyor."
      ],
      "metadata": {
        "id": "ZGscaRj5z-jS"
      },
      "execution_count": null,
      "outputs": []
    },
    {
      "cell_type": "code",
      "execution_count": null,
      "metadata": {
        "id": "Bmg8kC4_rPlY"
      },
      "outputs": [],
      "source": [
        "df[\"combined_embed\"] = df.apply(\n",
        "    lambda row: np.concatenate([row[\"template_embed\"], row[\"date_embed\"], np.array([row[\"duration_scaled\"]]).reshape(1,)]),\n",
        "    axis=1\n",
        ")"
      ]
    },
    {
      "cell_type": "code",
      "source": [
        "df[\"combined_embed\"]"
      ],
      "metadata": {
        "id": "7LShHNFyZQV4",
        "colab": {
          "base_uri": "https://localhost:8080/",
          "height": 458
        },
        "outputId": "76abcd0f-3171-43f5-85fc-47af1e2f853d"
      },
      "execution_count": null,
      "outputs": [
        {
          "output_type": "execute_result",
          "data": {
            "text/plain": [
              "0      [-0.21102800965309143, -0.15260635316371918, 0...\n",
              "1      [-0.10966666042804718, -0.04685284569859505, 0...\n",
              "2      [-0.21102800965309143, -0.15260635316371918, 0...\n",
              "3      [-0.10966666042804718, -0.04685284569859505, 0...\n",
              "4      [-0.21102800965309143, -0.15260635316371918, 0...\n",
              "                             ...                        \n",
              "771    [-0.522854208946228, -0.2799355983734131, -0.0...\n",
              "772    [-0.522854208946228, -0.2799355983734131, -0.0...\n",
              "773    [-0.522854208946228, -0.2799355983734131, -0.0...\n",
              "774    [-0.522854208946228, -0.2799355983734131, -0.0...\n",
              "775    [-0.4378361999988556, -0.29787683486938477, 0....\n",
              "Name: combined_embed, Length: 776, dtype: object"
            ],
            "text/html": [
              "<div>\n",
              "<style scoped>\n",
              "    .dataframe tbody tr th:only-of-type {\n",
              "        vertical-align: middle;\n",
              "    }\n",
              "\n",
              "    .dataframe tbody tr th {\n",
              "        vertical-align: top;\n",
              "    }\n",
              "\n",
              "    .dataframe thead th {\n",
              "        text-align: right;\n",
              "    }\n",
              "</style>\n",
              "<table border=\"1\" class=\"dataframe\">\n",
              "  <thead>\n",
              "    <tr style=\"text-align: right;\">\n",
              "      <th></th>\n",
              "      <th>combined_embed</th>\n",
              "    </tr>\n",
              "  </thead>\n",
              "  <tbody>\n",
              "    <tr>\n",
              "      <th>0</th>\n",
              "      <td>[-0.21102800965309143, -0.15260635316371918, 0...</td>\n",
              "    </tr>\n",
              "    <tr>\n",
              "      <th>1</th>\n",
              "      <td>[-0.10966666042804718, -0.04685284569859505, 0...</td>\n",
              "    </tr>\n",
              "    <tr>\n",
              "      <th>2</th>\n",
              "      <td>[-0.21102800965309143, -0.15260635316371918, 0...</td>\n",
              "    </tr>\n",
              "    <tr>\n",
              "      <th>3</th>\n",
              "      <td>[-0.10966666042804718, -0.04685284569859505, 0...</td>\n",
              "    </tr>\n",
              "    <tr>\n",
              "      <th>4</th>\n",
              "      <td>[-0.21102800965309143, -0.15260635316371918, 0...</td>\n",
              "    </tr>\n",
              "    <tr>\n",
              "      <th>...</th>\n",
              "      <td>...</td>\n",
              "    </tr>\n",
              "    <tr>\n",
              "      <th>771</th>\n",
              "      <td>[-0.522854208946228, -0.2799355983734131, -0.0...</td>\n",
              "    </tr>\n",
              "    <tr>\n",
              "      <th>772</th>\n",
              "      <td>[-0.522854208946228, -0.2799355983734131, -0.0...</td>\n",
              "    </tr>\n",
              "    <tr>\n",
              "      <th>773</th>\n",
              "      <td>[-0.522854208946228, -0.2799355983734131, -0.0...</td>\n",
              "    </tr>\n",
              "    <tr>\n",
              "      <th>774</th>\n",
              "      <td>[-0.522854208946228, -0.2799355983734131, -0.0...</td>\n",
              "    </tr>\n",
              "    <tr>\n",
              "      <th>775</th>\n",
              "      <td>[-0.4378361999988556, -0.29787683486938477, 0....</td>\n",
              "    </tr>\n",
              "  </tbody>\n",
              "</table>\n",
              "<p>776 rows × 1 columns</p>\n",
              "</div><br><label><b>dtype:</b> object</label>"
            ]
          },
          "metadata": {},
          "execution_count": 19
        }
      ]
    },
    {
      "cell_type": "markdown",
      "metadata": {
        "id": "5U8xew89OPik"
      },
      "source": [
        "# BILSTM With Sliding Window"
      ]
    },
    {
      "cell_type": "markdown",
      "metadata": {
        "id": "FpnoMx93OY00"
      },
      "source": [
        "## Create Sliding Window"
      ]
    },
    {
      "cell_type": "code",
      "execution_count": null,
      "metadata": {
        "id": "cQLm8fgm6cvy",
        "colab": {
          "base_uri": "https://localhost:8080/"
        },
        "outputId": "931b9ddc-2bd4-4a33-9738-1f57fdf7f868"
      },
      "outputs": [
        {
          "output_type": "stream",
          "name": "stderr",
          "text": [
            "/tmp/ipython-input-3082556815.py:11: SettingWithCopyWarning: \n",
            "A value is trying to be set on a copy of a slice from a DataFrame\n",
            "\n",
            "See the caveats in the documentation: https://pandas.pydata.org/pandas-docs/stable/user_guide/indexing.html#returning-a-view-versus-a-copy\n",
            "  df_train.sort_values(by=\"date\", inplace=True)\n",
            "/tmp/ipython-input-3082556815.py:12: SettingWithCopyWarning: \n",
            "A value is trying to be set on a copy of a slice from a DataFrame\n",
            "\n",
            "See the caveats in the documentation: https://pandas.pydata.org/pandas-docs/stable/user_guide/indexing.html#returning-a-view-versus-a-copy\n",
            "  df_test.sort_values(by=\"date\", inplace=True)\n"
          ]
        }
      ],
      "source": [
        "df = df.sample(frac=1).reset_index(drop=True)\n",
        "\n",
        "window_size = 20  # template window, or adjust\n",
        "sequences = []\n",
        "n = len(df)\n",
        "train_end = int(n * 0.8)\n",
        "\n",
        "df_train = df.iloc[:train_end]\n",
        "df_test  = df.iloc[train_end:]\n",
        "\n",
        "df_train.sort_values(by=\"date\", inplace=True)\n",
        "df_test.sort_values(by=\"date\", inplace=True)\n",
        "\n",
        "def make_windows(data, window_size=10):\n",
        "    X, Y, U = [], [], []\n",
        "    for i in range(len(data) - window_size):\n",
        "        # input: window of embeddings\n",
        "        X.append(np.stack(data[\"combined_embed\"].iloc[i:i+window_size]))\n",
        "        # target: next template embedding\n",
        "        Y.append(data[\"combined_embed\"].iloc[i+window_size])\n",
        "        # user: ID of the target log\n",
        "        U.append(data[\"user_id\"].iloc[i+window_size])\n",
        "    return np.array(X), np.array(Y), np.array(U)\n",
        "\n",
        "\n",
        "X_train, Y_train ,U_train   = make_windows(df_train)\n",
        "X_test,  Y_test , U_test    = make_windows(df_test)\n",
        "\n"
      ]
    },
    {
      "cell_type": "code",
      "execution_count": null,
      "metadata": {
        "id": "AgnK2l-RPZdw"
      },
      "outputs": [],
      "source": [
        "import torch\n",
        "mu = X_train.mean(axis=(0,1), keepdims=True)   # shape: (1,1,embed_dim)\n",
        "sigma = X_train.std(axis=(0,1), keepdims=True) + 1e-8\n",
        "\n",
        "X_train_norm = (X_train - mu) / sigma\n",
        "X_test_norm  = (X_test  - mu) / sigma\n",
        "\n",
        "template_dim = df_train[\"template_embed\"].iloc[0].shape[0]  # 768\n",
        "\n",
        "# compute mu and sigma for template embeddings only\n",
        "mu_y = Y_train.mean(axis=0, keepdims=True)      # shape (1, template_dim)\n",
        "sigma_y = Y_train.std(axis=0, keepdims=True) + 1e-8\n",
        "\n",
        "Y_train_norm = (Y_train - mu_y) / sigma_y\n",
        "Y_test_norm  = (Y_test  - mu_y) / sigma_y\n",
        "\n",
        "X_train_t = torch.tensor(X_train_norm, dtype=torch.float32)\n",
        "Y_train_t = torch.tensor(Y_train_norm, dtype=torch.float32)\n",
        "\n",
        "U_train_t = torch.tensor(U_train, dtype=torch.long)\n",
        "U_test_t  = torch.tensor(U_test, dtype=torch.long)\n",
        "\n",
        "X_test_t = torch.tensor(X_test_norm, dtype=torch.float32)\n",
        "Y_test_t  = torch.tensor(Y_test_norm, dtype=torch.float32)"
      ]
    },
    {
      "cell_type": "code",
      "source": [
        "class Attention(nn.Module):\n",
        "    def __init__(self, hidden_dim):\n",
        "        super().__init__()\n",
        "        self.attn = nn.Linear(hidden_dim*2, hidden_dim)\n",
        "        self.v = nn.Linear(hidden_dim, 1, bias=False)\n",
        "\n",
        "    def forward(self, lstm_out):\n",
        "        # lstm_out: (batch, seq_len, hidden*2)\n",
        "        energy = torch.tanh(self.attn(lstm_out))   # (batch, seq_len, hidden)\n",
        "        scores = self.v(energy).squeeze(-1)        # (batch, seq_len)\n",
        "        attn_weights = torch.softmax(scores, dim=1).unsqueeze(-1)  # (batch, seq_len, 1)\n",
        "\n",
        "        context = torch.sum(attn_weights * lstm_out, dim=1)  # (batch, hidden*2)\n",
        "        return context, attn_weights"
      ],
      "metadata": {
        "id": "k1YXejybuREH"
      },
      "execution_count": null,
      "outputs": []
    },
    {
      "cell_type": "code",
      "execution_count": null,
      "metadata": {
        "id": "Y2SxJe5GRZBm"
      },
      "outputs": [],
      "source": [
        "class LogBiLSTM(nn.Module):\n",
        "    def __init__(self, input_dim, hidden_dim=256, num_layers=1,\n",
        "                 output_dim=None):\n",
        "        super().__init__()\n",
        "        self.lstm = nn.LSTM(input_dim, hidden_dim, num_layers=num_layers, batch_first=True, bidirectional=True)\n",
        "        self.attention = Attention(hidden_dim)\n",
        "        self.output_dim = output_dim\n",
        "        if output_dim:\n",
        "            self.fc = nn.Linear(hidden_dim*2, output_dim)\n",
        "\n",
        "    def forward(self, x):\n",
        "        lstm_out, _ = self.lstm(x)\n",
        "        context, attn_weights = self.attention(lstm_out)\n",
        "        if self.output_dim:\n",
        "            out = self.fc(context)\n",
        "            return out, attn_weights\n",
        "        return context, attn_weights"
      ]
    },
    {
      "cell_type": "code",
      "source": [
        "from torch.utils.data import TensorDataset, DataLoader\n",
        "\n",
        "train_dataset = TensorDataset(torch.tensor(X_train_t, dtype=torch.float32),\n",
        "                              torch.tensor(Y_train_t, dtype=torch.float32),\n",
        "                               torch.tensor(U_train_t, dtype=torch.long))\n",
        "train_loader = DataLoader(train_dataset, batch_size=512, shuffle=False)\n"
      ],
      "metadata": {
        "colab": {
          "base_uri": "https://localhost:8080/"
        },
        "id": "MUyH3lJPcM2a",
        "outputId": "2d3c9511-38b2-4de8-824f-13370d3e9307"
      },
      "execution_count": null,
      "outputs": [
        {
          "output_type": "stream",
          "name": "stderr",
          "text": [
            "/tmp/ipython-input-1710453892.py:3: UserWarning: To copy construct from a tensor, it is recommended to use sourceTensor.detach().clone() or sourceTensor.detach().clone().requires_grad_(True), rather than torch.tensor(sourceTensor).\n",
            "  train_dataset = TensorDataset(torch.tensor(X_train_t, dtype=torch.float32),\n",
            "/tmp/ipython-input-1710453892.py:4: UserWarning: To copy construct from a tensor, it is recommended to use sourceTensor.detach().clone() or sourceTensor.detach().clone().requires_grad_(True), rather than torch.tensor(sourceTensor).\n",
            "  torch.tensor(Y_train_t, dtype=torch.float32),\n",
            "/tmp/ipython-input-1710453892.py:5: UserWarning: To copy construct from a tensor, it is recommended to use sourceTensor.detach().clone() or sourceTensor.detach().clone().requires_grad_(True), rather than torch.tensor(sourceTensor).\n",
            "  torch.tensor(U_train_t, dtype=torch.long))\n"
          ]
        }
      ]
    },
    {
      "cell_type": "code",
      "source": [
        "model = LogBiLSTM(input_dim=X_train_t.shape[2], hidden_dim=256, output_dim=781 )"
      ],
      "metadata": {
        "id": "gev_cboTpa-6"
      },
      "execution_count": null,
      "outputs": []
    },
    {
      "cell_type": "code",
      "source": [
        "\n",
        "import torch\n",
        "import torch.nn as nn\n",
        "import matplotlib.pyplot as plt\n",
        "\n",
        "criterion = nn.MSELoss()\n",
        "optimizer = torch.optim.Adam(model.parameters(), lr=1e-3)\n",
        "\n",
        "num_epochs = 150\n",
        "attn_records = []  # attention ağırlıklarını kaydetmek için\n",
        "\n",
        "for epoch in range(num_epochs):\n",
        "    model.train()\n",
        "    total_loss = 0\n",
        "    for i, (X_batch, Y_batch, user_batch) in enumerate(train_loader):\n",
        "        optimizer.zero_grad()\n",
        "        output, attn_weights = model(X_batch)  # attention dönüyor\n",
        "\n",
        "        loss = criterion(output, Y_batch)\n",
        "        loss.backward()\n",
        "        torch.nn.utils.clip_grad_norm_(model.parameters(), 1.0)\n",
        "        optimizer.step()\n",
        "        total_loss += loss.item()\n",
        "\n",
        "        # sadece ilk batch’in ilk örneğini kaydedelim (fazla yer kaplamasın diye)\n",
        "        if i == 10:\n",
        "          print(\"recorded\")\n",
        "          attn_records.append(attn_weights[0].detach().cpu().numpy())\n",
        "\n",
        "    print(f\"Epoch {epoch+1}, Train Loss: {total_loss/len(train_loader):.4f}\")\n"
      ],
      "metadata": {
        "colab": {
          "base_uri": "https://localhost:8080/"
        },
        "id": "ZylBio8abqO1",
        "outputId": "e6b2fe27-4989-481a-9159-5fc0ea1b93fe"
      },
      "execution_count": null,
      "outputs": [
        {
          "output_type": "stream",
          "name": "stdout",
          "text": [
            "Epoch 98, Train Loss: 0.2303\n",
            "Epoch 99, Train Loss: 0.2274\n",
            "Epoch 100, Train Loss: 0.2205\n",
            "Epoch 101, Train Loss: 0.2175\n",
            "Epoch 102, Train Loss: 0.2131\n",
            "Epoch 103, Train Loss: 0.2097\n",
            "Epoch 104, Train Loss: 0.2097\n",
            "Epoch 105, Train Loss: 0.2024\n",
            "Epoch 106, Train Loss: 0.1976\n",
            "Epoch 107, Train Loss: 0.1949\n",
            "Epoch 108, Train Loss: 0.1933\n",
            "Epoch 109, Train Loss: 0.1911\n",
            "Epoch 110, Train Loss: 0.1867\n",
            "Epoch 111, Train Loss: 0.1831\n",
            "Epoch 112, Train Loss: 0.1812\n",
            "Epoch 113, Train Loss: 0.1801\n",
            "Epoch 114, Train Loss: 0.1878\n",
            "Epoch 115, Train Loss: 0.1915\n",
            "Epoch 116, Train Loss: 0.1966\n",
            "Epoch 117, Train Loss: 0.2289\n",
            "Epoch 118, Train Loss: 0.2133\n",
            "Epoch 119, Train Loss: 0.2059\n",
            "Epoch 120, Train Loss: 0.2089\n",
            "Epoch 121, Train Loss: 0.2060\n",
            "Epoch 122, Train Loss: 0.2006\n",
            "Epoch 123, Train Loss: 0.1912\n",
            "Epoch 124, Train Loss: 0.1899\n",
            "Epoch 125, Train Loss: 0.1876\n",
            "Epoch 126, Train Loss: 0.1830\n",
            "Epoch 127, Train Loss: 0.1791\n",
            "Epoch 128, Train Loss: 0.1774\n",
            "Epoch 129, Train Loss: 0.1748\n",
            "Epoch 130, Train Loss: 0.1720\n",
            "Epoch 131, Train Loss: 0.1686\n",
            "Epoch 132, Train Loss: 0.1638\n",
            "Epoch 133, Train Loss: 0.1638\n",
            "Epoch 134, Train Loss: 0.1616\n",
            "Epoch 135, Train Loss: 0.1609\n",
            "Epoch 136, Train Loss: 0.1605\n",
            "Epoch 137, Train Loss: 0.1601\n",
            "Epoch 138, Train Loss: 0.1650\n",
            "Epoch 139, Train Loss: 0.1634\n",
            "Epoch 140, Train Loss: 0.1631\n",
            "Epoch 141, Train Loss: 0.1530\n",
            "Epoch 142, Train Loss: 0.1530\n",
            "Epoch 143, Train Loss: 0.1521\n",
            "Epoch 144, Train Loss: 0.1493\n",
            "Epoch 145, Train Loss: 0.1477\n",
            "Epoch 146, Train Loss: 0.1446\n",
            "Epoch 147, Train Loss: 0.1412\n",
            "Epoch 148, Train Loss: 0.1403\n",
            "Epoch 149, Train Loss: 0.1401\n",
            "Epoch 150, Train Loss: 0.1399\n"
          ]
        }
      ]
    },
    {
      "cell_type": "code",
      "source": [
        "model.eval()\n",
        "with torch.no_grad():\n",
        "    test_output, attn_weights = model(X_test_t )\n",
        "    errors = ((test_output - Y_test_t) ** 2).mean(dim=1)  # shape: (num_windows,)\n"
      ],
      "metadata": {
        "id": "sZxzJ1a1fBQr"
      },
      "execution_count": null,
      "outputs": []
    },
    {
      "cell_type": "code",
      "source": [
        "# # Her epoch için kaydedilen attention ağırlıklarını çiz\n",
        "# for epoch, attn in enumerate(attn_records, 1):\n",
        "#     plt.figure(figsize=(10, 3))\n",
        "#     plt.bar(range(len(attn)), attn.squeeze())  # sequence uzunluğu kadar sütun\n",
        "#     plt.title(f\"Epoch {epoch} - Attention distribution (first sample)\")\n",
        "#     plt.xlabel(\"Sequence position (token index)\")\n",
        "#     plt.ylabel(\"Attention weight\")\n",
        "#     plt.show()\n",
        "\n"
      ],
      "metadata": {
        "id": "XP2ietKWgmeH"
      },
      "execution_count": null,
      "outputs": []
    },
    {
      "cell_type": "code",
      "source": [
        "import numpy as np\n",
        "\n",
        "def explain_anomaly_v2(idx, test_output, Y_test_t ):\n",
        "    \"\"\"\n",
        "    Bir anomaliyi, özellik bazında tahmin hatasını (MSE) hesaplayarak açıklar.\n",
        "\n",
        "    Args:\n",
        "        idx (int): Test setindeki anomalinin indeksi.\n",
        "        test_output (torch.Tensor): Modelin test seti için yaptığı tüm tahminler.\n",
        "        Y_test_t (torch.Tensor): Test setinin gerçek değerleri.\n",
        "\n",
        "    Returns:\n",
        "        tuple: (Hata sözlüğü, Açıklama metni)\n",
        "    \"\"\"\n",
        "    # 1. DOĞRU KARŞILAŞTIRMA: Test tahminini, test gerçeğiyle karşılaştır.\n",
        "    diff = (test_output[idx] - Y_train_t[idx]).cpu().numpy()\n",
        "\n",
        "    # 2. GÜNCEL BOYUTLAR: 'duration' özelliğini 1 boyutlu olarak güncelleyin.\n",
        "    #    (Eğer hala 6 boyutlu 'connection' kullanıyorsanız, burayı eski haliyle bırakın)\n",
        "    sizes = {\"template\": 768, \"date\": 12, \"duration\": 1}\n",
        "\n",
        "    start = 0\n",
        "    errors_mse = {}\n",
        "    for feature_name, size in sizes.items():\n",
        "        # Vektörün ilgili kısmını al\n",
        "        part = diff[start:start + size]\n",
        "\n",
        "        # 3. NORMALİZE EDİLMİŞ HATA: L2 norm yerine Ortalama Karesel Hata (MSE) hesapla.\n",
        "        #    Bu, boyut etkisini ortadan kaldırır.\n",
        "        errors_mse[feature_name] = np.mean(np.square(part))\n",
        "\n",
        "        start += size\n",
        "\n",
        "    # En yüksek ortalama hataya sahip olan özelliği bul\n",
        "    main_feature = max(errors_mse, key=errors_mse.get)\n",
        "\n",
        "    # Daha detaylı bir açıklama metni oluştur\n",
        "    explanation = (\n",
        "        f\"Bu log penceresi anormal çünkü '{main_feature}' özelliğinin tahmini \"\n",
        "        f\"beklenenden çok farklı.\\n\"\n",
        "        f\"Özellik bazında ortalama hata (MSE): {errors_mse}\"\n",
        "    )\n",
        "\n",
        "    return errors_mse, explanation\n"
      ],
      "metadata": {
        "id": "FaSIyiqD8IVt"
      },
      "execution_count": null,
      "outputs": []
    },
    {
      "cell_type": "code",
      "source": [
        "threshold = errors.mean() + 2 * errors.std()\n",
        "anomalies_idx = torch.where(errors > threshold)[0]  # indices of anomalous windows\n",
        "for i in range(len(anomalies_idx)):\n",
        "  idx = anomalies_idx[i]\n",
        "  errories, reason = explain_anomaly_v2(idx, test_output, Y_test_t )\n",
        "  print(errories)   # her feature için hata büyüklüğü\n",
        "  print(\"\\n\")\n",
        "  print(reason)   # açıklama\n",
        "  print(\"\\n\")\n",
        "  print(df_test.iloc[int(idx)]['log'])\n",
        "  print(\"---------------------------------------------------------------------------\")\n"
      ],
      "metadata": {
        "id": "1nQItCHaaL9d"
      },
      "execution_count": null,
      "outputs": []
    },
    {
      "cell_type": "code",
      "source": [
        "import matplotlib.pyplot as plt\n",
        "\n",
        "plt.plot(errors.numpy())\n",
        "plt.xlabel(\"Window index\")\n",
        "plt.ylabel(\"MSE error\")\n",
        "plt.title(\"Prediction error per window\")\n",
        "plt.show()\n",
        "\n",
        "# Simple threshold for anomalies\n",
        "threshold = errors.mean() + 2*errors.std()\n",
        "anomalies = torch.where(errors > threshold)[0]\n",
        "print(\"Anomalous windows:\", anomalies)"
      ],
      "metadata": {
        "colab": {
          "base_uri": "https://localhost:8080/",
          "height": 489
        },
        "id": "dZlRgqEckwJ3",
        "outputId": "cb94059c-72a8-4f80-8d95-cede177c0641"
      },
      "execution_count": null,
      "outputs": [
        {
          "output_type": "display_data",
          "data": {
            "text/plain": [
              "<Figure size 640x480 with 1 Axes>"
            ],
            "image/png": "[encoded data removed]"
          },
          "metadata": {}
        },
        {
          "output_type": "stream",
          "name": "stdout",
          "text": [
            "Anomalous windows: tensor([114, 115, 117, 118, 142, 144])\n"
          ]
        }
      ]
    },
    {
      "cell_type": "code",
      "source": [
        "# df_test is the test DataFrame\n",
        "anomalous_logs = df_train.iloc[anomalies_idx]\n",
        "\n"
      ],
      "metadata": {
        "id": "tW_sAmhCvXz2"
      },
      "execution_count": null,
      "outputs": []
    },
    {
      "cell_type": "markdown",
      "source": [
        "## Neden Bunlar anomali olarak değerlendirildiler."
      ],
      "metadata": {
        "id": "WZVIXv-4mWhO"
      }
    },
    {
      "cell_type": "code",
      "source": [],
      "metadata": {
        "id": "NrQ5_ZtJcku2"
      },
      "execution_count": null,
      "outputs": []
    }
  ],
  "metadata": {
    "colab": {
      "provenance": []
    },
    "kernelspec": {
      "display_name": "Python 3",
      "name": "python3"
    },
    "language_info": {
      "name": "python"
    },
    "widgets": {
      "application/vnd.jupyter.widget-state+json": {
        "ece4dee264c348acad8127b9fe83a83b": {
          "model_module": "@jupyter-widgets/controls",
          "model_name": "HBoxModel",
          "model_module_version": "1.5.0",
          "state": {
            "_dom_classes": [],
            "_model_module": "@jupyter-widgets/controls",
            "_model_module_version": "1.5.0",
            "_model_name": "HBoxModel",
            "_view_count": null,
            "_view_module": "@jupyter-widgets/controls",
            "_view_module_version": "1.5.0",
            "_view_name": "HBoxView",
            "box_style": "",
            "children": [
              "IPY_MODEL_14b7059d34944a30bf3d43a96969087b",
              "IPY_MODEL_1a54a5deaf174248ae2d1712d483294d",
              "IPY_MODEL_69f7878cd4584199a2b4b3875e048ace"
            ],
            "layout": "IPY_MODEL_e705c777e92448e8be95802495dd9c03"
          }
        },
        "14b7059d34944a30bf3d43a96969087b": {
          "model_module": "@jupyter-widgets/controls",
          "model_name": "HTMLModel",
          "model_module_version": "1.5.0",
          "state": {
            "_dom_classes": [],
            "_model_module": "@jupyter-widgets/controls",
            "_model_module_version": "1.5.0",
            "_model_name": "HTMLModel",
            "_view_count": null,
            "_view_module": "@jupyter-widgets/controls",
            "_view_module_version": "1.5.0",
            "_view_name": "HTMLView",
            "description": "",
            "description_tooltip": null,
            "layout": "IPY_MODEL_df8f7939aebf4029b8facdbed01c7da1",
            "placeholder": "​",
            "style": "IPY_MODEL_d5d796cb5e7646979787d24427fc6b6e",
            "value": "tokenizer_config.json: 100%"
          }
        },
        "1a54a5deaf174248ae2d1712d483294d": {
          "model_module": "@jupyter-widgets/controls",
          "model_name": "FloatProgressModel",
          "model_module_version": "1.5.0",
          "state": {
            "_dom_classes": [],
            "_model_module": "@jupyter-widgets/controls",
            "_model_module_version": "1.5.0",
            "_model_name": "FloatProgressModel",
            "_view_count": null,
            "_view_module": "@jupyter-widgets/controls",
            "_view_module_version": "1.5.0",
            "_view_name": "ProgressView",
            "bar_style": "success",
            "description": "",
            "description_tooltip": null,
            "layout": "IPY_MODEL_ee55abba32b0434c8e5dfe3013214ddb",
            "max": 48,
            "min": 0,
            "orientation": "horizontal",
            "style": "IPY_MODEL_b65e90ef29ff4a76a14699d9a58e384e",
            "value": 48
          }
        },
        "69f7878cd4584199a2b4b3875e048ace": {
          "model_module": "@jupyter-widgets/controls",
          "model_name": "HTMLModel",
          "model_module_version": "1.5.0",
          "state": {
            "_dom_classes": [],
            "_model_module": "@jupyter-widgets/controls",
            "_model_module_version": "1.5.0",
            "_model_name": "HTMLModel",
            "_view_count": null,
            "_view_module": "@jupyter-widgets/controls",
            "_view_module_version": "1.5.0",
            "_view_name": "HTMLView",
            "description": "",
            "description_tooltip": null,
            "layout": "IPY_MODEL_6388d4e33e8d4202965cdd70003964e8",
            "placeholder": "​",
            "style": "IPY_MODEL_51d4ae6a088d46ff984d935a642ec795",
            "value": " 48.0/48.0 [00:00&lt;00:00, 2.91kB/s]"
          }
        },
        "e705c777e92448e8be95802495dd9c03": {
          "model_module": "@jupyter-widgets/base",
          "model_name": "LayoutModel",
          "model_module_version": "1.2.0",
          "state": {
            "_model_module": "@jupyter-widgets/base",
            "_model_module_version": "1.2.0",
            "_model_name": "LayoutModel",
            "_view_count": null,
            "_view_module": "@jupyter-widgets/base",
            "_view_module_version": "1.2.0",
            "_view_name": "LayoutView",
            "align_content": null,
            "align_items": null,
            "align_self": null,
            "border": null,
            "bottom": null,
            "display": null,
            "flex": null,
            "flex_flow": null,
            "grid_area": null,
            "grid_auto_columns": null,
            "grid_auto_flow": null,
            "grid_auto_rows": null,
            "grid_column": null,
            "grid_gap": null,
            "grid_row": null,
            "grid_template_areas": null,
            "grid_template_columns": null,
            "grid_template_rows": null,
            "height": null,
            "justify_content": null,
            "justify_items": null,
            "left": null,
            "margin": null,
            "max_height": null,
            "max_width": null,
            "min_height": null,
            "min_width": null,
            "object_fit": null,
            "object_position": null,
            "order": null,
            "overflow": null,
            "overflow_x": null,
            "overflow_y": null,
            "padding": null,
            "right": null,
            "top": null,
            "visibility": null,
            "width": null
          }
        },
        "df8f7939aebf4029b8facdbed01c7da1": {
          "model_module": "@jupyter-widgets/base",
          "model_name": "LayoutModel",
          "model_module_version": "1.2.0",
          "state": {
            "_model_module": "@jupyter-widgets/base",
            "_model_module_version": "1.2.0",
            "_model_name": "LayoutModel",
            "_view_count": null,
            "_view_module": "@jupyter-widgets/base",
            "_view_module_version": "1.2.0",
            "_view_name": "LayoutView",
            "align_content": null,
            "align_items": null,
            "align_self": null,
            "border": null,
            "bottom": null,
            "display": null,
            "flex": null,
            "flex_flow": null,
            "grid_area": null,
            "grid_auto_columns": null,
            "grid_auto_flow": null,
            "grid_auto_rows": null,
            "grid_column": null,
            "grid_gap": null,
            "grid_row": null,
            "grid_template_areas": null,
            "grid_template_columns": null,
            "grid_template_rows": null,
            "height": null,
            "justify_content": null,
            "justify_items": null,
            "left": null,
            "margin": null,
            "max_height": null,
            "max_width": null,
            "min_height": null,
            "min_width": null,
            "object_fit": null,
            "object_position": null,
            "order": null,
            "overflow": null,
            "overflow_x": null,
            "overflow_y": null,
            "padding": null,
            "right": null,
            "top": null,
            "visibility": null,
            "width": null
          }
        },
        "d5d796cb5e7646979787d24427fc6b6e": {
          "model_module": "@jupyter-widgets/controls",
          "model_name": "DescriptionStyleModel",
          "model_module_version": "1.5.0",
          "state": {
            "_model_module": "@jupyter-widgets/controls",
            "_model_module_version": "1.5.0",
            "_model_name": "DescriptionStyleModel",
            "_view_count": null,
            "_view_module": "@jupyter-widgets/base",
            "_view_module_version": "1.2.0",
            "_view_name": "StyleView",
            "description_width": ""
          }
        },
        "ee55abba32b0434c8e5dfe3013214ddb": {
          "model_module": "@jupyter-widgets/base",
          "model_name": "LayoutModel",
          "model_module_version": "1.2.0",
          "state": {
            "_model_module": "@jupyter-widgets/base",
            "_model_module_version": "1.2.0",
            "_model_name": "LayoutModel",
            "_view_count": null,
            "_view_module": "@jupyter-widgets/base",
            "_view_module_version": "1.2.0",
            "_view_name": "LayoutView",
            "align_content": null,
            "align_items": null,
            "align_self": null,
            "border": null,
            "bottom": null,
            "display": null,
            "flex": null,
            "flex_flow": null,
            "grid_area": null,
            "grid_auto_columns": null,
            "grid_auto_flow": null,
            "grid_auto_rows": null,
            "grid_column": null,
            "grid_gap": null,
            "grid_row": null,
            "grid_template_areas": null,
            "grid_template_columns": null,
            "grid_template_rows": null,
            "height": null,
            "justify_content": null,
            "justify_items": null,
            "left": null,
            "margin": null,
            "max_height": null,
            "max_width": null,
            "min_height": null,
            "min_width": null,
            "object_fit": null,
            "object_position": null,
            "order": null,
            "overflow": null,
            "overflow_x": null,
            "overflow_y": null,
            "padding": null,
            "right": null,
            "top": null,
            "visibility": null,
            "width": null
          }
        },
        "b65e90ef29ff4a76a14699d9a58e384e": {
          "model_module": "@jupyter-widgets/controls",
          "model_name": "ProgressStyleModel",
          "model_module_version": "1.5.0",
          "state": {
            "_model_module": "@jupyter-widgets/controls",
            "_model_module_version": "1.5.0",
            "_model_name": "ProgressStyleModel",
            "_view_count": null,
            "_view_module": "@jupyter-widgets/base",
            "_view_module_version": "1.2.0",
            "_view_name": "StyleView",
            "bar_color": null,
            "description_width": ""
          }
        },
        "6388d4e33e8d4202965cdd70003964e8": {
          "model_module": "@jupyter-widgets/base",
          "model_name": "LayoutModel",
          "model_module_version": "1.2.0",
          "state": {
            "_model_module": "@jupyter-widgets/base",
            "_model_module_version": "1.2.0",
            "_model_name": "LayoutModel",
            "_view_count": null,
            "_view_module": "@jupyter-widgets/base",
            "_view_module_version": "1.2.0",
            "_view_name": "LayoutView",
            "align_content": null,
            "align_items": null,
            "align_self": null,
            "border": null,
            "bottom": null,
            "display": null,
            "flex": null,
            "flex_flow": null,
            "grid_area": null,
            "grid_auto_columns": null,
            "grid_auto_flow": null,
            "grid_auto_rows": null,
            "grid_column": null,
            "grid_gap": null,
            "grid_row": null,
            "grid_template_areas": null,
            "grid_template_columns": null,
            "grid_template_rows": null,
            "height": null,
            "justify_content": null,
            "justify_items": null,
            "left": null,
            "margin": null,
            "max_height": null,
            "max_width": null,
            "min_height": null,
            "min_width": null,
            "object_fit": null,
            "object_position": null,
            "order": null,
            "overflow": null,
            "overflow_x": null,
            "overflow_y": null,
            "padding": null,
            "right": null,
            "top": null,
            "visibility": null,
            "width": null
          }
        },
        "51d4ae6a088d46ff984d935a642ec795": {
          "model_module": "@jupyter-widgets/controls",
          "model_name": "DescriptionStyleModel",
          "model_module_version": "1.5.0",
          "state": {
            "_model_module": "@jupyter-widgets/controls",
            "_model_module_version": "1.5.0",
            "_model_name": "DescriptionStyleModel",
            "_view_count": null,
            "_view_module": "@jupyter-widgets/base",
            "_view_module_version": "1.2.0",
            "_view_name": "StyleView",
            "description_width": ""
          }
        },
        "842b5f9725bd4beaaf6a18ee53bf3197": {
          "model_module": "@jupyter-widgets/controls",
          "model_name": "HBoxModel",
          "model_module_version": "1.5.0",
          "state": {
            "_dom_classes": [],
            "_model_module": "@jupyter-widgets/controls",
            "_model_module_version": "1.5.0",
            "_model_name": "HBoxModel",
            "_view_count": null,
            "_view_module": "@jupyter-widgets/controls",
            "_view_module_version": "1.5.0",
            "_view_name": "HBoxView",
            "box_style": "",
            "children": [
              "IPY_MODEL_ac745d5b7a294bbba310b51f1dc2db10",
              "IPY_MODEL_ef64bf1ccba240efa8105779647e6d51",
              "IPY_MODEL_55ef80718ddd4c93b4de4d53c3baec88"
            ],
            "layout": "IPY_MODEL_54e24d51657b4a819aea0c5135913d25"
          }
        },
        "ac745d5b7a294bbba310b51f1dc2db10": {
          "model_module": "@jupyter-widgets/controls",
          "model_name": "HTMLModel",
          "model_module_version": "1.5.0",
          "state": {
            "_dom_classes": [],
            "_model_module": "@jupyter-widgets/controls",
            "_model_module_version": "1.5.0",
            "_model_name": "HTMLModel",
            "_view_count": null,
            "_view_module": "@jupyter-widgets/controls",
            "_view_module_version": "1.5.0",
            "_view_name": "HTMLView",
            "description": "",
            "description_tooltip": null,
            "layout": "IPY_MODEL_664e055fcc8f4bd2978769a0be9d2966",
            "placeholder": "​",
            "style": "IPY_MODEL_5c5e7556a9a04253a6f446d0bf9064b5",
            "value": "vocab.txt: 100%"
          }
        },
        "ef64bf1ccba240efa8105779647e6d51": {
          "model_module": "@jupyter-widgets/controls",
          "model_name": "FloatProgressModel",
          "model_module_version": "1.5.0",
          "state": {
            "_dom_classes": [],
            "_model_module": "@jupyter-widgets/controls",
            "_model_module_version": "1.5.0",
            "_model_name": "FloatProgressModel",
            "_view_count": null,
            "_view_module": "@jupyter-widgets/controls",
            "_view_module_version": "1.5.0",
            "_view_name": "ProgressView",
            "bar_style": "success",
            "description": "",
            "description_tooltip": null,
            "layout": "IPY_MODEL_48cdb4b64f6e4dc295ad05a874e4ca48",
            "max": 231508,
            "min": 0,
            "orientation": "horizontal",
            "style": "IPY_MODEL_f919f147c316453ebed0ccc6d3cde711",
            "value": 231508
          }
        },
        "55ef80718ddd4c93b4de4d53c3baec88": {
          "model_module": "@jupyter-widgets/controls",
          "model_name": "HTMLModel",
          "model_module_version": "1.5.0",
          "state": {
            "_dom_classes": [],
            "_model_module": "@jupyter-widgets/controls",
            "_model_module_version": "1.5.0",
            "_model_name": "HTMLModel",
            "_view_count": null,
            "_view_module": "@jupyter-widgets/controls",
            "_view_module_version": "1.5.0",
            "_view_name": "HTMLView",
            "description": "",
            "description_tooltip": null,
            "layout": "IPY_MODEL_991de700156a4fc8a81ae8c8a140d7c5",
            "placeholder": "​",
            "style": "IPY_MODEL_fb4ad725ff194a23b50e7c90b6f36a93",
            "value": " 232k/232k [00:00&lt;00:00, 6.51MB/s]"
          }
        },
        "54e24d51657b4a819aea0c5135913d25": {
          "model_module": "@jupyter-widgets/base",
          "model_name": "LayoutModel",
          "model_module_version": "1.2.0",
          "state": {
            "_model_module": "@jupyter-widgets/base",
            "_model_module_version": "1.2.0",
            "_model_name": "LayoutModel",
            "_view_count": null,
            "_view_module": "@jupyter-widgets/base",
            "_view_module_version": "1.2.0",
            "_view_name": "LayoutView",
            "align_content": null,
            "align_items": null,
            "align_self": null,
            "border": null,
            "bottom": null,
            "display": null,
            "flex": null,
            "flex_flow": null,
            "grid_area": null,
            "grid_auto_columns": null,
            "grid_auto_flow": null,
            "grid_auto_rows": null,
            "grid_column": null,
            "grid_gap": null,
            "grid_row": null,
            "grid_template_areas": null,
            "grid_template_columns": null,
            "grid_template_rows": null,
            "height": null,
            "justify_content": null,
            "justify_items": null,
            "left": null,
            "margin": null,
            "max_height": null,
            "max_width": null,
            "min_height": null,
            "min_width": null,
            "object_fit": null,
            "object_position": null,
            "order": null,
            "overflow": null,
            "overflow_x": null,
            "overflow_y": null,
            "padding": null,
            "right": null,
            "top": null,
            "visibility": null,
            "width": null
          }
        },
        "664e055fcc8f4bd2978769a0be9d2966": {
          "model_module": "@jupyter-widgets/base",
          "model_name": "LayoutModel",
          "model_module_version": "1.2.0",
          "state": {
            "_model_module": "@jupyter-widgets/base",
            "_model_module_version": "1.2.0",
            "_model_name": "LayoutModel",
            "_view_count": null,
            "_view_module": "@jupyter-widgets/base",
            "_view_module_version": "1.2.0",
            "_view_name": "LayoutView",
            "align_content": null,
            "align_items": null,
            "align_self": null,
            "border": null,
            "bottom": null,
            "display": null,
            "flex": null,
            "flex_flow": null,
            "grid_area": null,
            "grid_auto_columns": null,
            "grid_auto_flow": null,
            "grid_auto_rows": null,
            "grid_column": null,
            "grid_gap": null,
            "grid_row": null,
            "grid_template_areas": null,
            "grid_template_columns": null,
            "grid_template_rows": null,
            "height": null,
            "justify_content": null,
            "justify_items": null,
            "left": null,
            "margin": null,
            "max_height": null,
            "max_width": null,
            "min_height": null,
            "min_width": null,
            "object_fit": null,
            "object_position": null,
            "order": null,
            "overflow": null,
            "overflow_x": null,
            "overflow_y": null,
            "padding": null,
            "right": null,
            "top": null,
            "visibility": null,
            "width": null
          }
        },
        "5c5e7556a9a04253a6f446d0bf9064b5": {
          "model_module": "@jupyter-widgets/controls",
          "model_name": "DescriptionStyleModel",
          "model_module_version": "1.5.0",
          "state": {
            "_model_module": "@jupyter-widgets/controls",
            "_model_module_version": "1.5.0",
            "_model_name": "DescriptionStyleModel",
            "_view_count": null,
            "_view_module": "@jupyter-widgets/base",
            "_view_module_version": "1.2.0",
            "_view_name": "StyleView",
            "description_width": ""
          }
        },
        "48cdb4b64f6e4dc295ad05a874e4ca48": {
          "model_module": "@jupyter-widgets/base",
          "model_name": "LayoutModel",
          "model_module_version": "1.2.0",
          "state": {
            "_model_module": "@jupyter-widgets/base",
            "_model_module_version": "1.2.0",
            "_model_name": "LayoutModel",
            "_view_count": null,
            "_view_module": "@jupyter-widgets/base",
            "_view_module_version": "1.2.0",
            "_view_name": "LayoutView",
            "align_content": null,
            "align_items": null,
            "align_self": null,
            "border": null,
            "bottom": null,
            "display": null,
            "flex": null,
            "flex_flow": null,
            "grid_area": null,
            "grid_auto_columns": null,
            "grid_auto_flow": null,
            "grid_auto_rows": null,
            "grid_column": null,
            "grid_gap": null,
            "grid_row": null,
            "grid_template_areas": null,
            "grid_template_columns": null,
            "grid_template_rows": null,
            "height": null,
            "justify_content": null,
            "justify_items": null,
            "left": null,
            "margin": null,
            "max_height": null,
            "max_width": null,
            "min_height": null,
            "min_width": null,
            "object_fit": null,
            "object_position": null,
            "order": null,
            "overflow": null,
            "overflow_x": null,
            "overflow_y": null,
            "padding": null,
            "right": null,
            "top": null,
            "visibility": null,
            "width": null
          }
        },
        "f919f147c316453ebed0ccc6d3cde711": {
          "model_module": "@jupyter-widgets/controls",
          "model_name": "ProgressStyleModel",
          "model_module_version": "1.5.0",
          "state": {
            "_model_module": "@jupyter-widgets/controls",
            "_model_module_version": "1.5.0",
            "_model_name": "ProgressStyleModel",
            "_view_count": null,
            "_view_module": "@jupyter-widgets/base",
            "_view_module_version": "1.2.0",
            "_view_name": "StyleView",
            "bar_color": null,
            "description_width": ""
          }
        },
        "991de700156a4fc8a81ae8c8a140d7c5": {
          "model_module": "@jupyter-widgets/base",
          "model_name": "LayoutModel",
          "model_module_version": "1.2.0",
          "state": {
            "_model_module": "@jupyter-widgets/base",
            "_model_module_version": "1.2.0",
            "_model_name": "LayoutModel",
            "_view_count": null,
            "_view_module": "@jupyter-widgets/base",
            "_view_module_version": "1.2.0",
            "_view_name": "LayoutView",
            "align_content": null,
            "align_items": null,
            "align_self": null,
            "border": null,
            "bottom": null,
            "display": null,
            "flex": null,
            "flex_flow": null,
            "grid_area": null,
            "grid_auto_columns": null,
            "grid_auto_flow": null,
            "grid_auto_rows": null,
            "grid_column": null,
            "grid_gap": null,
            "grid_row": null,
            "grid_template_areas": null,
            "grid_template_columns": null,
            "grid_template_rows": null,
            "height": null,
            "justify_content": null,
            "justify_items": null,
            "left": null,
            "margin": null,
            "max_height": null,
            "max_width": null,
            "min_height": null,
            "min_width": null,
            "object_fit": null,
            "object_position": null,
            "order": null,
            "overflow": null,
            "overflow_x": null,
            "overflow_y": null,
            "padding": null,
            "right": null,
            "top": null,
            "visibility": null,
            "width": null
          }
        },
        "fb4ad725ff194a23b50e7c90b6f36a93": {
          "model_module": "@jupyter-widgets/controls",
          "model_name": "DescriptionStyleModel",
          "model_module_version": "1.5.0",
          "state": {
            "_model_module": "@jupyter-widgets/controls",
            "_model_module_version": "1.5.0",
            "_model_name": "DescriptionStyleModel",
            "_view_count": null,
            "_view_module": "@jupyter-widgets/base",
            "_view_module_version": "1.2.0",
            "_view_name": "StyleView",
            "description_width": ""
          }
        },
        "46ab3d6103c84c1a9f01bbcf420965c0": {
          "model_module": "@jupyter-widgets/controls",
          "model_name": "HBoxModel",
          "model_module_version": "1.5.0",
          "state": {
            "_dom_classes": [],
            "_model_module": "@jupyter-widgets/controls",
            "_model_module_version": "1.5.0",
            "_model_name": "HBoxModel",
            "_view_count": null,
            "_view_module": "@jupyter-widgets/controls",
            "_view_module_version": "1.5.0",
            "_view_name": "HBoxView",
            "box_style": "",
            "children": [
              "IPY_MODEL_3c9384fcff4343428c4a0526ad008801",
              "IPY_MODEL_0b6769ae1e844729b931d2af7483d6bc",
              "IPY_MODEL_dd01e9dcb1b84ea6bae8b090735ca2a6"
            ],
            "layout": "IPY_MODEL_ac1cefe0c7914d68b47c38271eaeb8be"
          }
        },
        "3c9384fcff4343428c4a0526ad008801": {
          "model_module": "@jupyter-widgets/controls",
          "model_name": "HTMLModel",
          "model_module_version": "1.5.0",
          "state": {
            "_dom_classes": [],
            "_model_module": "@jupyter-widgets/controls",
            "_model_module_version": "1.5.0",
            "_model_name": "HTMLModel",
            "_view_count": null,
            "_view_module": "@jupyter-widgets/controls",
            "_view_module_version": "1.5.0",
            "_view_name": "HTMLView",
            "description": "",
            "description_tooltip": null,
            "layout": "IPY_MODEL_72a51b0641684d7e9f054fefa7dbdeb6",
            "placeholder": "​",
            "style": "IPY_MODEL_765e0188c0b6483499391826d4969a50",
            "value": "tokenizer.json: 100%"
          }
        },
        "0b6769ae1e844729b931d2af7483d6bc": {
          "model_module": "@jupyter-widgets/controls",
          "model_name": "FloatProgressModel",
          "model_module_version": "1.5.0",
          "state": {
            "_dom_classes": [],
            "_model_module": "@jupyter-widgets/controls",
            "_model_module_version": "1.5.0",
            "_model_name": "FloatProgressModel",
            "_view_count": null,
            "_view_module": "@jupyter-widgets/controls",
            "_view_module_version": "1.5.0",
            "_view_name": "ProgressView",
            "bar_style": "success",
            "description": "",
            "description_tooltip": null,
            "layout": "IPY_MODEL_c4fbcb3634794359ac9a3a55ce38bafa",
            "max": 466062,
            "min": 0,
            "orientation": "horizontal",
            "style": "IPY_MODEL_57e7171ba55a4a72a3b813879ac8618c",
            "value": 466062
          }
        },
        "dd01e9dcb1b84ea6bae8b090735ca2a6": {
          "model_module": "@jupyter-widgets/controls",
          "model_name": "HTMLModel",
          "model_module_version": "1.5.0",
          "state": {
            "_dom_classes": [],
            "_model_module": "@jupyter-widgets/controls",
            "_model_module_version": "1.5.0",
            "_model_name": "HTMLModel",
            "_view_count": null,
            "_view_module": "@jupyter-widgets/controls",
            "_view_module_version": "1.5.0",
            "_view_name": "HTMLView",
            "description": "",
            "description_tooltip": null,
            "layout": "IPY_MODEL_cca4cdd59afa4594a1225ba484572d82",
            "placeholder": "​",
            "style": "IPY_MODEL_f8bc7a8c5e034245b0111b03d9e29d54",
            "value": " 466k/466k [00:00&lt;00:00, 7.03MB/s]"
          }
        },
        "ac1cefe0c7914d68b47c38271eaeb8be": {
          "model_module": "@jupyter-widgets/base",
          "model_name": "LayoutModel",
          "model_module_version": "1.2.0",
          "state": {
            "_model_module": "@jupyter-widgets/base",
            "_model_module_version": "1.2.0",
            "_model_name": "LayoutModel",
            "_view_count": null,
            "_view_module": "@jupyter-widgets/base",
            "_view_module_version": "1.2.0",
            "_view_name": "LayoutView",
            "align_content": null,
            "align_items": null,
            "align_self": null,
            "border": null,
            "bottom": null,
            "display": null,
            "flex": null,
            "flex_flow": null,
            "grid_area": null,
            "grid_auto_columns": null,
            "grid_auto_flow": null,
            "grid_auto_rows": null,
            "grid_column": null,
            "grid_gap": null,
            "grid_row": null,
            "grid_template_areas": null,
            "grid_template_columns": null,
            "grid_template_rows": null,
            "height": null,
            "justify_content": null,
            "justify_items": null,
            "left": null,
            "margin": null,
            "max_height": null,
            "max_width": null,
            "min_height": null,
            "min_width": null,
            "object_fit": null,
            "object_position": null,
            "order": null,
            "overflow": null,
            "overflow_x": null,
            "overflow_y": null,
            "padding": null,
            "right": null,
            "top": null,
            "visibility": null,
            "width": null
          }
        },
        "72a51b0641684d7e9f054fefa7dbdeb6": {
          "model_module": "@jupyter-widgets/base",
          "model_name": "LayoutModel",
          "model_module_version": "1.2.0",
          "state": {
            "_model_module": "@jupyter-widgets/base",
            "_model_module_version": "1.2.0",
            "_model_name": "LayoutModel",
            "_view_count": null,
            "_view_module": "@jupyter-widgets/base",
            "_view_module_version": "1.2.0",
            "_view_name": "LayoutView",
            "align_content": null,
            "align_items": null,
            "align_self": null,
            "border": null,
            "bottom": null,
            "display": null,
            "flex": null,
            "flex_flow": null,
            "grid_area": null,
            "grid_auto_columns": null,
            "grid_auto_flow": null,
            "grid_auto_rows": null,
            "grid_column": null,
            "grid_gap": null,
            "grid_row": null,
            "grid_template_areas": null,
            "grid_template_columns": null,
            "grid_template_rows": null,
            "height": null,
            "justify_content": null,
            "justify_items": null,
            "left": null,
            "margin": null,
            "max_height": null,
            "max_width": null,
            "min_height": null,
            "min_width": null,
            "object_fit": null,
            "object_position": null,
            "order": null,
            "overflow": null,
            "overflow_x": null,
            "overflow_y": null,
            "padding": null,
            "right": null,
            "top": null,
            "visibility": null,
            "width": null
          }
        },
        "765e0188c0b6483499391826d4969a50": {
          "model_module": "@jupyter-widgets/controls",
          "model_name": "DescriptionStyleModel",
          "model_module_version": "1.5.0",
          "state": {
            "_model_module": "@jupyter-widgets/controls",
            "_model_module_version": "1.5.0",
            "_model_name": "DescriptionStyleModel",
            "_view_count": null,
            "_view_module": "@jupyter-widgets/base",
            "_view_module_version": "1.2.0",
            "_view_name": "StyleView",
            "description_width": ""
          }
        },
        "c4fbcb3634794359ac9a3a55ce38bafa": {
          "model_module": "@jupyter-widgets/base",
          "model_name": "LayoutModel",
          "model_module_version": "1.2.0",
          "state": {
            "_model_module": "@jupyter-widgets/base",
            "_model_module_version": "1.2.0",
            "_model_name": "LayoutModel",
            "_view_count": null,
            "_view_module": "@jupyter-widgets/base",
            "_view_module_version": "1.2.0",
            "_view_name": "LayoutView",
            "align_content": null,
            "align_items": null,
            "align_self": null,
            "border": null,
            "bottom": null,
            "display": null,
            "flex": null,
            "flex_flow": null,
            "grid_area": null,
            "grid_auto_columns": null,
            "grid_auto_flow": null,
            "grid_auto_rows": null,
            "grid_column": null,
            "grid_gap": null,
            "grid_row": null,
            "grid_template_areas": null,
            "grid_template_columns": null,
            "grid_template_rows": null,
            "height": null,
            "justify_content": null,
            "justify_items": null,
            "left": null,
            "margin": null,
            "max_height": null,
            "max_width": null,
            "min_height": null,
            "min_width": null,
            "object_fit": null,
            "object_position": null,
            "order": null,
            "overflow": null,
            "overflow_x": null,
            "overflow_y": null,
            "padding": null,
            "right": null,
            "top": null,
            "visibility": null,
            "width": null
          }
        },
        "57e7171ba55a4a72a3b813879ac8618c": {
          "model_module": "@jupyter-widgets/controls",
          "model_name": "ProgressStyleModel",
          "model_module_version": "1.5.0",
          "state": {
            "_model_module": "@jupyter-widgets/controls",
            "_model_module_version": "1.5.0",
            "_model_name": "ProgressStyleModel",
            "_view_count": null,
            "_view_module": "@jupyter-widgets/base",
            "_view_module_version": "1.2.0",
            "_view_name": "StyleView",
            "bar_color": null,
            "description_width": ""
          }
        },
        "cca4cdd59afa4594a1225ba484572d82": {
          "model_module": "@jupyter-widgets/base",
          "model_name": "LayoutModel",
          "model_module_version": "1.2.0",
          "state": {
            "_model_module": "@jupyter-widgets/base",
            "_model_module_version": "1.2.0",
            "_model_name": "LayoutModel",
            "_view_count": null,
            "_view_module": "@jupyter-widgets/base",
            "_view_module_version": "1.2.0",
            "_view_name": "LayoutView",
            "align_content": null,
            "align_items": null,
            "align_self": null,
            "border": null,
            "bottom": null,
            "display": null,
            "flex": null,
            "flex_flow": null,
            "grid_area": null,
            "grid_auto_columns": null,
            "grid_auto_flow": null,
            "grid_auto_rows": null,
            "grid_column": null,
            "grid_gap": null,
            "grid_row": null,
            "grid_template_areas": null,
            "grid_template_columns": null,
            "grid_template_rows": null,
            "height": null,
            "justify_content": null,
            "justify_items": null,
            "left": null,
            "margin": null,
            "max_height": null,
            "max_width": null,
            "min_height": null,
            "min_width": null,
            "object_fit": null,
            "object_position": null,
            "order": null,
            "overflow": null,
            "overflow_x": null,
            "overflow_y": null,
            "padding": null,
            "right": null,
            "top": null,
            "visibility": null,
            "width": null
          }
        },
        "f8bc7a8c5e034245b0111b03d9e29d54": {
          "model_module": "@jupyter-widgets/controls",
          "model_name": "DescriptionStyleModel",
          "model_module_version": "1.5.0",
          "state": {
            "_model_module": "@jupyter-widgets/controls",
            "_model_module_version": "1.5.0",
            "_model_name": "DescriptionStyleModel",
            "_view_count": null,
            "_view_module": "@jupyter-widgets/base",
            "_view_module_version": "1.2.0",
            "_view_name": "StyleView",
            "description_width": ""
          }
        },
        "0826049e858843e2b5860481fff4b720": {
          "model_module": "@jupyter-widgets/controls",
          "model_name": "HBoxModel",
          "model_module_version": "1.5.0",
          "state": {
            "_dom_classes": [],
            "_model_module": "@jupyter-widgets/controls",
            "_model_module_version": "1.5.0",
            "_model_name": "HBoxModel",
            "_view_count": null,
            "_view_module": "@jupyter-widgets/controls",
            "_view_module_version": "1.5.0",
            "_view_name": "HBoxView",
            "box_style": "",
            "children": [
              "IPY_MODEL_03a27188be174382a013d42b7fe41e58",
              "IPY_MODEL_e10e4a9b4d6a4a1cb81f863a6f6ca365",
              "IPY_MODEL_8bb179a1d65e4cf5895505add9d34625"
            ],
            "layout": "IPY_MODEL_b497f7c361414660a53a6b41ab6fe059"
          }
        },
        "03a27188be174382a013d42b7fe41e58": {
          "model_module": "@jupyter-widgets/controls",
          "model_name": "HTMLModel",
          "model_module_version": "1.5.0",
          "state": {
            "_dom_classes": [],
            "_model_module": "@jupyter-widgets/controls",
            "_model_module_version": "1.5.0",
            "_model_name": "HTMLModel",
            "_view_count": null,
            "_view_module": "@jupyter-widgets/controls",
            "_view_module_version": "1.5.0",
            "_view_name": "HTMLView",
            "description": "",
            "description_tooltip": null,
            "layout": "IPY_MODEL_31756b12f0f94188806a2654f70001db",
            "placeholder": "​",
            "style": "IPY_MODEL_13e17ff3c0ac447db36eca74ac5dea00",
            "value": "config.json: 100%"
          }
        },
        "e10e4a9b4d6a4a1cb81f863a6f6ca365": {
          "model_module": "@jupyter-widgets/controls",
          "model_name": "FloatProgressModel",
          "model_module_version": "1.5.0",
          "state": {
            "_dom_classes": [],
            "_model_module": "@jupyter-widgets/controls",
            "_model_module_version": "1.5.0",
            "_model_name": "FloatProgressModel",
            "_view_count": null,
            "_view_module": "@jupyter-widgets/controls",
            "_view_module_version": "1.5.0",
            "_view_name": "ProgressView",
            "bar_style": "success",
            "description": "",
            "description_tooltip": null,
            "layout": "IPY_MODEL_a027c53bbec34761a6a98514eefe5006",
            "max": 570,
            "min": 0,
            "orientation": "horizontal",
            "style": "IPY_MODEL_7c5b39d0368543b29d0b787ab302e009",
            "value": 570
          }
        },
        "8bb179a1d65e4cf5895505add9d34625": {
          "model_module": "@jupyter-widgets/controls",
          "model_name": "HTMLModel",
          "model_module_version": "1.5.0",
          "state": {
            "_dom_classes": [],
            "_model_module": "@jupyter-widgets/controls",
            "_model_module_version": "1.5.0",
            "_model_name": "HTMLModel",
            "_view_count": null,
            "_view_module": "@jupyter-widgets/controls",
            "_view_module_version": "1.5.0",
            "_view_name": "HTMLView",
            "description": "",
            "description_tooltip": null,
            "layout": "IPY_MODEL_cc6ae1e8429e431e84c607a102fc49c2",
            "placeholder": "​",
            "style": "IPY_MODEL_d9b488d012b1481baa5bb6252c9f6db5",
            "value": " 570/570 [00:00&lt;00:00, 29.3kB/s]"
          }
        },
        "b497f7c361414660a53a6b41ab6fe059": {
          "model_module": "@jupyter-widgets/base",
          "model_name": "LayoutModel",
          "model_module_version": "1.2.0",
          "state": {
            "_model_module": "@jupyter-widgets/base",
            "_model_module_version": "1.2.0",
            "_model_name": "LayoutModel",
            "_view_count": null,
            "_view_module": "@jupyter-widgets/base",
            "_view_module_version": "1.2.0",
            "_view_name": "LayoutView",
            "align_content": null,
            "align_items": null,
            "align_self": null,
            "border": null,
            "bottom": null,
            "display": null,
            "flex": null,
            "flex_flow": null,
            "grid_area": null,
            "grid_auto_columns": null,
            "grid_auto_flow": null,
            "grid_auto_rows": null,
            "grid_column": null,
            "grid_gap": null,
            "grid_row": null,
            "grid_template_areas": null,
            "grid_template_columns": null,
            "grid_template_rows": null,
            "height": null,
            "justify_content": null,
            "justify_items": null,
            "left": null,
            "margin": null,
            "max_height": null,
            "max_width": null,
            "min_height": null,
            "min_width": null,
            "object_fit": null,
            "object_position": null,
            "order": null,
            "overflow": null,
            "overflow_x": null,
            "overflow_y": null,
            "padding": null,
            "right": null,
            "top": null,
            "visibility": null,
            "width": null
          }
        },
        "31756b12f0f94188806a2654f70001db": {
          "model_module": "@jupyter-widgets/base",
          "model_name": "LayoutModel",
          "model_module_version": "1.2.0",
          "state": {
            "_model_module": "@jupyter-widgets/base",
            "_model_module_version": "1.2.0",
            "_model_name": "LayoutModel",
            "_view_count": null,
            "_view_module": "@jupyter-widgets/base",
            "_view_module_version": "1.2.0",
            "_view_name": "LayoutView",
            "align_content": null,
            "align_items": null,
            "align_self": null,
            "border": null,
            "bottom": null,
            "display": null,
            "flex": null,
            "flex_flow": null,
            "grid_area": null,
            "grid_auto_columns": null,
            "grid_auto_flow": null,
            "grid_auto_rows": null,
            "grid_column": null,
            "grid_gap": null,
            "grid_row": null,
            "grid_template_areas": null,
            "grid_template_columns": null,
            "grid_template_rows": null,
            "height": null,
            "justify_content": null,
            "justify_items": null,
            "left": null,
            "margin": null,
            "max_height": null,
            "max_width": null,
            "min_height": null,
            "min_width": null,
            "object_fit": null,
            "object_position": null,
            "order": null,
            "overflow": null,
            "overflow_x": null,
            "overflow_y": null,
            "padding": null,
            "right": null,
            "top": null,
            "visibility": null,
            "width": null
          }
        },
        "13e17ff3c0ac447db36eca74ac5dea00": {
          "model_module": "@jupyter-widgets/controls",
          "model_name": "DescriptionStyleModel",
          "model_module_version": "1.5.0",
          "state": {
            "_model_module": "@jupyter-widgets/controls",
            "_model_module_version": "1.5.0",
            "_model_name": "DescriptionStyleModel",
            "_view_count": null,
            "_view_module": "@jupyter-widgets/base",
            "_view_module_version": "1.2.0",
            "_view_name": "StyleView",
            "description_width": ""
          }
        },
        "a027c53bbec34761a6a98514eefe5006": {
          "model_module": "@jupyter-widgets/base",
          "model_name": "LayoutModel",
          "model_module_version": "1.2.0",
          "state": {
            "_model_module": "@jupyter-widgets/base",
            "_model_module_version": "1.2.0",
            "_model_name": "LayoutModel",
            "_view_count": null,
            "_view_module": "@jupyter-widgets/base",
            "_view_module_version": "1.2.0",
            "_view_name": "LayoutView",
            "align_content": null,
            "align_items": null,
            "align_self": null,
            "border": null,
            "bottom": null,
            "display": null,
            "flex": null,
            "flex_flow": null,
            "grid_area": null,
            "grid_auto_columns": null,
            "grid_auto_flow": null,
            "grid_auto_rows": null,
            "grid_column": null,
            "grid_gap": null,
            "grid_row": null,
            "grid_template_areas": null,
            "grid_template_columns": null,
            "grid_template_rows": null,
            "height": null,
            "justify_content": null,
            "justify_items": null,
            "left": null,
            "margin": null,
            "max_height": null,
            "max_width": null,
            "min_height": null,
            "min_width": null,
            "object_fit": null,
            "object_position": null,
            "order": null,
            "overflow": null,
            "overflow_x": null,
            "overflow_y": null,
            "padding": null,
            "right": null,
            "top": null,
            "visibility": null,
            "width": null
          }
        },
        "7c5b39d0368543b29d0b787ab302e009": {
          "model_module": "@jupyter-widgets/controls",
          "model_name": "ProgressStyleModel",
          "model_module_version": "1.5.0",
          "state": {
            "_model_module": "@jupyter-widgets/controls",
            "_model_module_version": "1.5.0",
            "_model_name": "ProgressStyleModel",
            "_view_count": null,
            "_view_module": "@jupyter-widgets/base",
            "_view_module_version": "1.2.0",
            "_view_name": "StyleView",
            "bar_color": null,
            "description_width": ""
          }
        },
        "cc6ae1e8429e431e84c607a102fc49c2": {
          "model_module": "@jupyter-widgets/base",
          "model_name": "LayoutModel",
          "model_module_version": "1.2.0",
          "state": {
            "_model_module": "@jupyter-widgets/base",
            "_model_module_version": "1.2.0",
            "_model_name": "LayoutModel",
            "_view_count": null,
            "_view_module": "@jupyter-widgets/base",
            "_view_module_version": "1.2.0",
            "_view_name": "LayoutView",
            "align_content": null,
            "align_items": null,
            "align_self": null,
            "border": null,
            "bottom": null,
            "display": null,
            "flex": null,
            "flex_flow": null,
            "grid_area": null,
            "grid_auto_columns": null,
            "grid_auto_flow": null,
            "grid_auto_rows": null,
            "grid_column": null,
            "grid_gap": null,
            "grid_row": null,
            "grid_template_areas": null,
            "grid_template_columns": null,
            "grid_template_rows": null,
            "height": null,
            "justify_content": null,
            "justify_items": null,
            "left": null,
            "margin": null,
            "max_height": null,
            "max_width": null,
            "min_height": null,
            "min_width": null,
            "object_fit": null,
            "object_position": null,
            "order": null,
            "overflow": null,
            "overflow_x": null,
            "overflow_y": null,
            "padding": null,
            "right": null,
            "top": null,
            "visibility": null,
            "width": null
          }
        },
        "d9b488d012b1481baa5bb6252c9f6db5": {
          "model_module": "@jupyter-widgets/controls",
          "model_name": "DescriptionStyleModel",
          "model_module_version": "1.5.0",
          "state": {
            "_model_module": "@jupyter-widgets/controls",
            "_model_module_version": "1.5.0",
            "_model_name": "DescriptionStyleModel",
            "_view_count": null,
            "_view_module": "@jupyter-widgets/base",
            "_view_module_version": "1.2.0",
            "_view_name": "StyleView",
            "description_width": ""
          }
        },
        "50b5e422385241739d1b8c9ab13861cf": {
          "model_module": "@jupyter-widgets/controls",
          "model_name": "HBoxModel",
          "model_module_version": "1.5.0",
          "state": {
            "_dom_classes": [],
            "_model_module": "@jupyter-widgets/controls",
            "_model_module_version": "1.5.0",
            "_model_name": "HBoxModel",
            "_view_count": null,
            "_view_module": "@jupyter-widgets/controls",
            "_view_module_version": "1.5.0",
            "_view_name": "HBoxView",
            "box_style": "",
            "children": [
              "IPY_MODEL_1a39647fad1e4e27b40cdedbe9e0c575",
              "IPY_MODEL_a261bd3a102c4ccbb8317f4611e62eb5",
              "IPY_MODEL_c7046710fa2b4191a5ade5de5e0d025b"
            ],
            "layout": "IPY_MODEL_270abb27cfb04e50a4b01b86f296cf31"
          }
        },
        "1a39647fad1e4e27b40cdedbe9e0c575": {
          "model_module": "@jupyter-widgets/controls",
          "model_name": "HTMLModel",
          "model_module_version": "1.5.0",
          "state": {
            "_dom_classes": [],
            "_model_module": "@jupyter-widgets/controls",
            "_model_module_version": "1.5.0",
            "_model_name": "HTMLModel",
            "_view_count": null,
            "_view_module": "@jupyter-widgets/controls",
            "_view_module_version": "1.5.0",
            "_view_name": "HTMLView",
            "description": "",
            "description_tooltip": null,
            "layout": "IPY_MODEL_e6c5864c26c741c181388316dbad3587",
            "placeholder": "​",
            "style": "IPY_MODEL_e527bfbb10844a6292fc55f2407e67cc",
            "value": "model.safetensors: 100%"
          }
        },
        "a261bd3a102c4ccbb8317f4611e62eb5": {
          "model_module": "@jupyter-widgets/controls",
          "model_name": "FloatProgressModel",
          "model_module_version": "1.5.0",
          "state": {
            "_dom_classes": [],
            "_model_module": "@jupyter-widgets/controls",
            "_model_module_version": "1.5.0",
            "_model_name": "FloatProgressModel",
            "_view_count": null,
            "_view_module": "@jupyter-widgets/controls",
            "_view_module_version": "1.5.0",
            "_view_name": "ProgressView",
            "bar_style": "success",
            "description": "",
            "description_tooltip": null,
            "layout": "IPY_MODEL_a2a36262b72f43c2b6fa2ae71a8012c5",
            "max": 440449768,
            "min": 0,
            "orientation": "horizontal",
            "style": "IPY_MODEL_3d27a381a50441108869a3cf7cc13d19",
            "value": 440449768
          }
        },
        "c7046710fa2b4191a5ade5de5e0d025b": {
          "model_module": "@jupyter-widgets/controls",
          "model_name": "HTMLModel",
          "model_module_version": "1.5.0",
          "state": {
            "_dom_classes": [],
            "_model_module": "@jupyter-widgets/controls",
            "_model_module_version": "1.5.0",
            "_model_name": "HTMLModel",
            "_view_count": null,
            "_view_module": "@jupyter-widgets/controls",
            "_view_module_version": "1.5.0",
            "_view_name": "HTMLView",
            "description": "",
            "description_tooltip": null,
            "layout": "IPY_MODEL_fdd866845f0e435b9144f665fc8ef239",
            "placeholder": "​",
            "style": "IPY_MODEL_25ed1a9ce6484730829c906a84758390",
            "value": " 440M/440M [00:15&lt;00:00, 25.3MB/s]"
          }
        },
        "270abb27cfb04e50a4b01b86f296cf31": {
          "model_module": "@jupyter-widgets/base",
          "model_name": "LayoutModel",
          "model_module_version": "1.2.0",
          "state": {
            "_model_module": "@jupyter-widgets/base",
            "_model_module_version": "1.2.0",
            "_model_name": "LayoutModel",
            "_view_count": null,
            "_view_module": "@jupyter-widgets/base",
            "_view_module_version": "1.2.0",
            "_view_name": "LayoutView",
            "align_content": null,
            "align_items": null,
            "align_self": null,
            "border": null,
            "bottom": null,
            "display": null,
            "flex": null,
            "flex_flow": null,
            "grid_area": null,
            "grid_auto_columns": null,
            "grid_auto_flow": null,
            "grid_auto_rows": null,
            "grid_column": null,
            "grid_gap": null,
            "grid_row": null,
            "grid_template_areas": null,
            "grid_template_columns": null,
            "grid_template_rows": null,
            "height": null,
            "justify_content": null,
            "justify_items": null,
            "left": null,
            "margin": null,
            "max_height": null,
            "max_width": null,
            "min_height": null,
            "min_width": null,
            "object_fit": null,
            "object_position": null,
            "order": null,
            "overflow": null,
            "overflow_x": null,
            "overflow_y": null,
            "padding": null,
            "right": null,
            "top": null,
            "visibility": null,
            "width": null
          }
        },
        "e6c5864c26c741c181388316dbad3587": {
          "model_module": "@jupyter-widgets/base",
          "model_name": "LayoutModel",
          "model_module_version": "1.2.0",
          "state": {
            "_model_module": "@jupyter-widgets/base",
            "_model_module_version": "1.2.0",
            "_model_name": "LayoutModel",
            "_view_count": null,
            "_view_module": "@jupyter-widgets/base",
            "_view_module_version": "1.2.0",
            "_view_name": "LayoutView",
            "align_content": null,
            "align_items": null,
            "align_self": null,
            "border": null,
            "bottom": null,
            "display": null,
            "flex": null,
            "flex_flow": null,
            "grid_area": null,
            "grid_auto_columns": null,
            "grid_auto_flow": null,
            "grid_auto_rows": null,
            "grid_column": null,
            "grid_gap": null,
            "grid_row": null,
            "grid_template_areas": null,
            "grid_template_columns": null,
            "grid_template_rows": null,
            "height": null,
            "justify_content": null,
            "justify_items": null,
            "left": null,
            "margin": null,
            "max_height": null,
            "max_width": null,
            "min_height": null,
            "min_width": null,
            "object_fit": null,
            "object_position": null,
            "order": null,
            "overflow": null,
            "overflow_x": null,
            "overflow_y": null,
            "padding": null,
            "right": null,
            "top": null,
            "visibility": null,
            "width": null
          }
        },
        "e527bfbb10844a6292fc55f2407e67cc": {
          "model_module": "@jupyter-widgets/controls",
          "model_name": "DescriptionStyleModel",
          "model_module_version": "1.5.0",
          "state": {
            "_model_module": "@jupyter-widgets/controls",
            "_model_module_version": "1.5.0",
            "_model_name": "DescriptionStyleModel",
            "_view_count": null,
            "_view_module": "@jupyter-widgets/base",
            "_view_module_version": "1.2.0",
            "_view_name": "StyleView",
            "description_width": ""
          }
        },
        "a2a36262b72f43c2b6fa2ae71a8012c5": {
          "model_module": "@jupyter-widgets/base",
          "model_name": "LayoutModel",
          "model_module_version": "1.2.0",
          "state": {
            "_model_module": "@jupyter-widgets/base",
            "_model_module_version": "1.2.0",
            "_model_name": "LayoutModel",
            "_view_count": null,
            "_view_module": "@jupyter-widgets/base",
            "_view_module_version": "1.2.0",
            "_view_name": "LayoutView",
            "align_content": null,
            "align_items": null,
            "align_self": null,
            "border": null,
            "bottom": null,
            "display": null,
            "flex": null,
            "flex_flow": null,
            "grid_area": null,
            "grid_auto_columns": null,
            "grid_auto_flow": null,
            "grid_auto_rows": null,
            "grid_column": null,
            "grid_gap": null,
            "grid_row": null,
            "grid_template_areas": null,
            "grid_template_columns": null,
            "grid_template_rows": null,
            "height": null,
            "justify_content": null,
            "justify_items": null,
            "left": null,
            "margin": null,
            "max_height": null,
            "max_width": null,
            "min_height": null,
            "min_width": null,
            "object_fit": null,
            "object_position": null,
            "order": null,
            "overflow": null,
            "overflow_x": null,
            "overflow_y": null,
            "padding": null,
            "right": null,
            "top": null,
            "visibility": null,
            "width": null
          }
        },
        "3d27a381a50441108869a3cf7cc13d19": {
          "model_module": "@jupyter-widgets/controls",
          "model_name": "ProgressStyleModel",
          "model_module_version": "1.5.0",
          "state": {
            "_model_module": "@jupyter-widgets/controls",
            "_model_module_version": "1.5.0",
            "_model_name": "ProgressStyleModel",
            "_view_count": null,
            "_view_module": "@jupyter-widgets/base",
            "_view_module_version": "1.2.0",
            "_view_name": "StyleView",
            "bar_color": null,
            "description_width": ""
          }
        },
        "fdd866845f0e435b9144f665fc8ef239": {
          "model_module": "@jupyter-widgets/base",
          "model_name": "LayoutModel",
          "model_module_version": "1.2.0",
          "state": {
            "_model_module": "@jupyter-widgets/base",
            "_model_module_version": "1.2.0",
            "_model_name": "LayoutModel",
            "_view_count": null,
            "_view_module": "@jupyter-widgets/base",
            "_view_module_version": "1.2.0",
            "_view_name": "LayoutView",
            "align_content": null,
            "align_items": null,
            "align_self": null,
            "border": null,
            "bottom": null,
            "display": null,
            "flex": null,
            "flex_flow": null,
            "grid_area": null,
            "grid_auto_columns": null,
            "grid_auto_flow": null,
            "grid_auto_rows": null,
            "grid_column": null,
            "grid_gap": null,
            "grid_row": null,
            "grid_template_areas": null,
            "grid_template_columns": null,
            "grid_template_rows": null,
            "height": null,
            "justify_content": null,
            "justify_items": null,
            "left": null,
            "margin": null,
            "max_height": null,
            "max_width": null,
            "min_height": null,
            "min_width": null,
            "object_fit": null,
            "object_position": null,
            "order": null,
            "overflow": null,
            "overflow_x": null,
            "overflow_y": null,
            "padding": null,
            "right": null,
            "top": null,
            "visibility": null,
            "width": null
          }
        },
        "25ed1a9ce6484730829c906a84758390": {
          "model_module": "@jupyter-widgets/controls",
          "model_name": "DescriptionStyleModel",
          "model_module_version": "1.5.0",
          "state": {
            "_model_module": "@jupyter-widgets/controls",
            "_model_module_version": "1.5.0",
            "_model_name": "DescriptionStyleModel",
            "_view_count": null,
            "_view_module": "@jupyter-widgets/base",
            "_view_module_version": "1.2.0",
            "_view_name": "StyleView",
            "description_width": ""
          }
        }
      }
    }
  },
  "nbformat": 4,
  "nbformat_minor": 0
}
